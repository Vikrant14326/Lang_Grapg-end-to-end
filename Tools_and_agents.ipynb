{
 "cells": [
  {
   "cell_type": "code",
   "execution_count": 57,
   "metadata": {},
   "outputs": [
    {
     "data": {
      "text/plain": [
       "True"
      ]
     },
     "execution_count": 57,
     "metadata": {},
     "output_type": "execute_result"
    }
   ],
   "source": [
    "\n",
    "import os\n",
    "from dotenv import load_dotenv\n",
    "load_dotenv()"
   ]
  },
  {
   "cell_type": "code",
   "execution_count": 58,
   "metadata": {},
   "outputs": [],
   "source": [
    "GOOGLE_API_KEY=os.getenv(\"GOOGLE_API_KEY\")\n",
    "TAVILY_API_KEY=os.getenv(\"TAVILY_API_KEY\")\n",
    "GROQ_API_KEY=os.getenv(\"GROQ_API_KEY\")\n",
    "LANGCHAIN_API_KEY=os.getenv(\"LANGCHAIN_API_KEY\")\n",
    "LANGCHAIN_PROJECT=os.getenv(\"LANGCHAIN_PROJECT\")\n",
    "os.environ[\"GOOGLE_API_KEY\"] = GOOGLE_API_KEY\n",
    "os.environ[\"TAVILY_API_KEY\"] = TAVILY_API_KEY\n",
    "os.environ[\"GROQ_API_KEY\"]= GROQ_API_KEY\n",
    "os.environ[\"LANGCHAIN_API_KEY\"] = LANGCHAIN_API_KEY\n",
    "os.environ[\"LANGCHAIN_TRACING_V2\"] = \"true\"\n",
    "os.environ[\"LANGCHAIN_ENDPOINT\"] = \"https://api.smith.langchain.com\"\n",
    "os.environ[\"LANGCHAIN_PROJECT\"]=LANGCHAIN_PROJECT"
   ]
  },
  {
   "cell_type": "code",
   "execution_count": 59,
   "metadata": {},
   "outputs": [
    {
     "data": {
      "text/plain": [
       "'langchain_pre_requsit'"
      ]
     },
     "execution_count": 59,
     "metadata": {},
     "output_type": "execute_result"
    }
   ],
   "source": [
    "LANGCHAIN_PROJECT"
   ]
  },
  {
   "cell_type": "code",
   "execution_count": 60,
   "metadata": {},
   "outputs": [],
   "source": [
    "from langchain_huggingface import HuggingFaceEmbeddings\n",
    "embeddings=HuggingFaceEmbeddings(model_name=\"all-MiniLM-L6-v2\")"
   ]
  },
  {
   "cell_type": "code",
   "execution_count": 61,
   "metadata": {},
   "outputs": [],
   "source": [
    "\n",
    "from langchain_groq import ChatGroq\n",
    "llm=ChatGroq(model_name=\"Gemma2-9b-It\")"
   ]
  },
  {
   "cell_type": "code",
   "execution_count": 62,
   "metadata": {},
   "outputs": [
    {
     "data": {
      "text/plain": [
       "AIMessage(content=\"As an AI, I don't have feelings, but I'm here and ready to help! How can I assist you today? 😊\\n\", additional_kwargs={}, response_metadata={'token_usage': {'completion_tokens': 32, 'prompt_tokens': 15, 'total_tokens': 47, 'completion_time': 0.058181818, 'prompt_time': 8.036e-05, 'queue_time': 0.01532351, 'total_time': 0.058262178}, 'model_name': 'Gemma2-9b-It', 'system_fingerprint': 'fp_10c08bf97d', 'finish_reason': 'stop', 'logprobs': None}, id='run-6378f6d5-b5d7-4d6c-9cfd-6f938ceb481c-0', usage_metadata={'input_tokens': 15, 'output_tokens': 32, 'total_tokens': 47})"
      ]
     },
     "execution_count": 62,
     "metadata": {},
     "output_type": "execute_result"
    }
   ],
   "source": [
    "\n",
    "llm.invoke(\"hi,how are you?\")"
   ]
  },
  {
   "cell_type": "markdown",
   "metadata": {},
   "source": [
    "#Predefine tools"
   ]
  },
  {
   "cell_type": "code",
   "execution_count": 63,
   "metadata": {},
   "outputs": [
    {
     "name": "stdout",
     "output_type": "stream",
     "text": [
      "No good Wikipedia Search Result was found\n"
     ]
    }
   ],
   "source": [
    "from langchain_community.tools import WikipediaQueryRun\n",
    "from langchain_community.utilities import WikipediaAPIWrapper\n",
    "api_wrapper = WikipediaAPIWrapper()\n",
    "tool = WikipediaQueryRun(api_wrapper=api_wrapper)\n",
    "print(tool.run({\"query\":\"langchan\"}))"
   ]
  },
  {
   "cell_type": "code",
   "execution_count": 64,
   "metadata": {},
   "outputs": [
    {
     "data": {
      "text/plain": [
       "\"['https://www.youtube.com/watch?v=CjKZKjPyRx4&pp=ygUMc3Vubnkgc2F2aXRh', 'https://www.youtube.com/watch?v=Ik8gNjJ-13I&pp=ygUMc3Vubnkgc2F2aXRh']\""
      ]
     },
     "execution_count": 64,
     "metadata": {},
     "output_type": "execute_result"
    }
   ],
   "source": [
    "from langchain_community.tools import YouTubeSearchTool\n",
    "tool2=YouTubeSearchTool()\n",
    "tool2.run(\"sunny savita\")"
   ]
  },
  {
   "cell_type": "code",
   "execution_count": 65,
   "metadata": {},
   "outputs": [
    {
     "data": {
      "text/plain": [
       "\"['https://www.youtube.com/watch?v=QoqokgcX96M&pp=ygUMY2FycnkgbWluYXRp', 'https://www.youtube.com/watch?v=l6BChpns5w8&pp=ygUMY2FycnkgbWluYXRp']\""
      ]
     },
     "execution_count": 65,
     "metadata": {},
     "output_type": "execute_result"
    }
   ],
   "source": [
    "\n",
    "from langchain_community.tools import YouTubeSearchTool\n",
    "tool2=YouTubeSearchTool()\n",
    "tool2.run(\"carry minati\")"
   ]
  },
  {
   "cell_type": "code",
   "execution_count": 66,
   "metadata": {},
   "outputs": [
    {
     "data": {
      "text/plain": [
       "[{'url': 'https://historycooperative.org/stay-story-mahatma-gandhi/',\n",
       "  'content': \"Mahatma Gandhi, also known as Mohandas Karamchand Gandhi, was a prominent figure in India's struggle for independence from British rule. His approach to non-violent protest and civil disobedience became a beacon for peaceful movements worldwide.\"},\n",
       " {'url': 'https://www.britannica.com/summary/Mahatma-Gandhi',\n",
       "  'content': 'Mahatma Gandhi summary\\nExplore the life of Mahatma Gandhi as a political and social activist\\nMahatma Gandhi, byname of Mohandas Karamchand Gandhi,\\n(born Oct. 2, 1869, Porbandar, India—died Jan. 30, 1948, Delhi), Preeminent leader of Indian nationalism and prophet of nonviolence in the 20th century.\\n He refashioned the Indian National Congress into an effective political instrument of Indian nationalism and undertook major campaigns of nonviolent resistance in 1920–22, 1930–34 (including his momentous march to the sea to collect salt to protest a government monopoly), and 1940–42. His success in South Africa gave him an international reputation, and in 1915 he returned to India and within a few years became the leader of a nationwide struggle for Indian home rule. Gandhi grew up in a home steeped in religion, and he took for granted religious tolerance and the doctrine of ahimsa (noninjury to all living beings). India achieved dominion status in 1947, but the partition of the subcontinent into India and Pakistan was a great disappointment to Gandhi, who had long worked for Hindu-Muslim unity.'},\n",
       " {'url': 'https://www.culturalindia.net/indian-history/modern-history/mahatma-gandhi.html',\n",
       "  'content': \"Mahatma Gandhi\\nFast Facts\\nDate of Birth: October 2, 1869\\nPlace of Birth: Porbandar, British India (now Gujarat)\\nDate of Death: January 30, 1948\\nPlace of Death: Delhi, India\\nCause of Death: Assassination\\nProfessions: Lawyer, politician, activist, writer\\nSpouse: Kasturba Gandhi\\nChildren: Harilal Gandhi, Manilal Gandhi, Ramdas Gandhi and Devdas Gandhi\\nFather: Karamchand Uttamchand Gandhi\\nMother: Putlibai Gandhi\\nMohandas Karamchand Gandhi was an eminent freedom activist and an influential political leader who played a dominant role in India's struggle for independence. He then joined the Indian National Congress and before taking over the leadership in 1920, headed many agitations which he named Satyagraha.\\nImage source: https://www.pinterest.com/pin/17029304817074165/\\nChamparan Satyagraha\\nThe Champaran agitation in 1917 was the first major success of Gandhi after his arrival in India. Gandhi and the Indian National Congress\\nAfter his long stay in South Africa and his activism against the racist policy of the British, Gandhi had earned the reputation as a nationalist, theorist and organiser. Though he would be remembered forever for his great contribution to the Indian freedom movement, his greatest legacies are the tools of peace and non-iolence that he preached and used in India's struggle for freedom against the British. Ultimately, all political leaders conceded to his wishes and he broke his fast.\\nAssassination of Mahatma Gandhi\\nThe inspiring life of Mahatma Gandhi came to an end on 30th\\xa0January 1948, when he was shot by a fanatic, Nathuram Godse, at point-blank range.\"},\n",
       " {'url': 'https://www.britannica.com/biography/Mahatma-Gandhi',\n",
       "  'content': 'Mohandas disregarded the last obstacle—the decree of the leaders of the Modh Bania subcaste (Vaishya caste), to which the Gandhis belonged, who forbade his trip to England as a violation of the Hindu religion—and sailed in September 1888. Gandhi’s father was a local government official working under the suzerainty of the British Raj, and his mother was a religious devotee who—like the rest of the family—practiced in the Vaishnavist tradition of Hinduism. Leo Tolstoy’s analysis of Christian theology, for example, came to bear heavily on Gandhi’s conception of spirituality, as did texts such as the Bible and the Quʾrān, and he first read the Bhagavadgita—a Hindu epic—in its English translation while living in Britain.\\n His father—Karamchand Gandhi, who was the dewan (chief minister) of Porbandar, the capital of a small principality in western India (in what is now Gujarat state) under British suzerainty—did not have much in the way of a formal education. But, besides the Vaishnava prejudice against vivisection, it was clear that, if he was to keep up the family tradition of holding high office in one of the states in Gujarat, he would have to qualify as a barrister.'},\n",
       " {'url': 'https://www.britannica.com/summary/Mahatma-Gandhis-Achievements',\n",
       "  'content': \"Mahatma Gandhi was one of the greatest national and civil rights leaders of the 20th century. He served as a lawyer, politician, and activist in the struggle for social justice and for India's independence from British rule.\"}]"
      ]
     },
     "execution_count": 66,
     "metadata": {},
     "output_type": "execute_result"
    }
   ],
   "source": [
    "from langchain_community.tools.tavily_search import TavilySearchResults\n",
    "tool = TavilySearchResults()\n",
    "tool.invoke({\"query\": \"who is mohandas karamchand gandhi?\"})"
   ]
  },
  {
   "cell_type": "markdown",
   "metadata": {},
   "source": [
    "#Create a Custom tool"
   ]
  },
  {
   "cell_type": "code",
   "execution_count": 67,
   "metadata": {},
   "outputs": [],
   "source": [
    "from langchain.agents import tool\n",
    "@tool\n",
    "def get_word_length(word: str) -> int:\n",
    "    \"\"\"Returns the length of a word.\"\"\"\n",
    "    return len(word)"
   ]
  },
  {
   "cell_type": "code",
   "execution_count": 68,
   "metadata": {},
   "outputs": [
    {
     "data": {
      "text/plain": [
       "3"
      ]
     },
     "execution_count": 68,
     "metadata": {},
     "output_type": "execute_result"
    }
   ],
   "source": [
    "get_word_length.invoke(\"abc\")"
   ]
  },
  {
   "cell_type": "code",
   "execution_count": 69,
   "metadata": {},
   "outputs": [
    {
     "data": {
      "text/plain": [
       "12"
      ]
     },
     "execution_count": 69,
     "metadata": {},
     "output_type": "execute_result"
    }
   ],
   "source": [
    "get_word_length.invoke(\"sunny savita\")"
   ]
  },
  {
   "cell_type": "code",
   "execution_count": 70,
   "metadata": {},
   "outputs": [],
   "source": [
    "@tool\n",
    "def multiply(a: int, b: int) -> int:\n",
    "    \"\"\"Multiply two numbers.\"\"\"\n",
    "    return a * b"
   ]
  },
  {
   "cell_type": "code",
   "execution_count": 71,
   "metadata": {},
   "outputs": [],
   "source": [
    "\n",
    "@tool\n",
    "def summisation(a: int, b: int) -> int:\n",
    "    \"\"\"Adding two numbers.\"\"\"\n",
    "    return a + b"
   ]
  },
  {
   "cell_type": "code",
   "execution_count": 72,
   "metadata": {},
   "outputs": [
    {
     "name": "stdout",
     "output_type": "stream",
     "text": [
      "multiply\n",
      "Multiply two numbers.\n",
      "{'a': {'title': 'A', 'type': 'integer'}, 'b': {'title': 'B', 'type': 'integer'}}\n"
     ]
    }
   ],
   "source": [
    "print(multiply.name)\n",
    "print(multiply.description)\n",
    "print(multiply.args)"
   ]
  },
  {
   "cell_type": "code",
   "execution_count": 73,
   "metadata": {},
   "outputs": [
    {
     "name": "stdout",
     "output_type": "stream",
     "text": [
      "summisation\n",
      "Adding two numbers.\n",
      "{'a': {'title': 'A', 'type': 'integer'}, 'b': {'title': 'B', 'type': 'integer'}}\n"
     ]
    }
   ],
   "source": [
    "print(summisation.name)\n",
    "print(summisation.description)\n",
    "print(summisation.args)"
   ]
  },
  {
   "cell_type": "code",
   "execution_count": 74,
   "metadata": {},
   "outputs": [
    {
     "data": {
      "text/plain": [
       "200"
      ]
     },
     "execution_count": 74,
     "metadata": {},
     "output_type": "execute_result"
    }
   ],
   "source": [
    "multiply.invoke({\"a\":10,\"b\":20})"
   ]
  },
  {
   "cell_type": "code",
   "execution_count": 75,
   "metadata": {},
   "outputs": [
    {
     "data": {
      "text/plain": [
       "30"
      ]
     },
     "execution_count": 75,
     "metadata": {},
     "output_type": "execute_result"
    }
   ],
   "source": [
    "summisation.invoke({\"a\":10,\"b\":20})"
   ]
  },
  {
   "cell_type": "markdown",
   "metadata": {},
   "source": [
    "#Concept of Agents\n",
    "###This Agent class from the first version of LangChain(lagacy)\n",
    "###they updated it towards the different classes"
   ]
  },
  {
   "cell_type": "code",
   "execution_count": 76,
   "metadata": {},
   "outputs": [],
   "source": [
    "from langchain.agents import AgentType\n",
    "from langchain.agents import load_tools \n",
    "from langchain.agents import initialize_agent"
   ]
  },
  {
   "cell_type": "code",
   "execution_count": 77,
   "metadata": {},
   "outputs": [],
   "source": [
    "tool=load_tools([\"wikipedia\"],llm=llm)"
   ]
  },
  {
   "cell_type": "code",
   "execution_count": 78,
   "metadata": {},
   "outputs": [],
   "source": [
    "agent=initialize_agent(tool,llm,agent=AgentType.ZERO_SHOT_REACT_DESCRIPTION,verbose=True)"
   ]
  },
  {
   "cell_type": "code",
   "execution_count": 79,
   "metadata": {},
   "outputs": [
    {
     "name": "stdout",
     "output_type": "stream",
     "text": [
      "\n",
      "\n",
      "\u001b[1m> Entering new AgentExecutor chain...\u001b[0m\n"
     ]
    },
    {
     "name": "stdout",
     "output_type": "stream",
     "text": [
      "\u001b[32;1m\u001b[1;3mThought: I need to look up information about Llama and its creators.\n",
      "Action: wikipedia\n",
      "Action Input: llama large language model\u001b[0m\n",
      "Observation: \u001b[36;1m\u001b[1;3mPage: Llama (language model)\n",
      "Summary: Llama (Large Language Model Meta AI, formerly stylized as LLaMA) is a family of autoregressive large language models (LLMs) released by Meta AI starting in February 2023. The latest version is Llama 3.3, released in December 2024.\n",
      "Model weights for the first version of Llama were made available to the research community under a non-commercial license, and access was granted on a case-by-case basis. Unauthorized copies of the model were shared via BitTorrent. In response, Meta AI issued DMCA takedown requests against repositories sharing the link on GitHub. Subsequent versions of Llama were made accessible outside academia and released under licenses that permitted some commercial use. Llama models are trained at different parameter sizes, ranging between 1B and 405B. Originally, Llama was only available as a foundation model. Starting with Llama 2, Meta AI started releasing instruction fine-tuned versions alongside foundation models.\n",
      "Alongside the release of Llama 3, Meta added virtual assistant features to Facebook and WhatsApp in select regions, and a standalone website. Both services use a Llama 3 model.\n",
      "\n",
      "\n",
      "\n",
      "Page: Large language model\n",
      "Summary: A large language model (LLM) is a type of computational model designed for natural language processing tasks such as language generation. As language models, LLMs acquire these abilities by learning statistical relationships from vast amounts of text during a self-supervised and semi-supervised training process.\n",
      "The largest and most capable LLMs are artificial neural networks built with a decoder-only transformer-based architecture, enabling efficient processing and generation of large-scale text data. Modern models can be fine-tuned for specific tasks or guided by prompt engineering. These models acquire predictive power regarding syntax, semantics, and ontologies inherent in human language corpora, but they also inherit inaccuracies and biases present in the data they are trained in.\n",
      "\n",
      "Page: Llama.cpp\n",
      "Summary: llama.cpp is an open source software library that performs inference on various large language models such as Llama. It is co-developed alongside the GGML project, a general-purpose tensor library. \n",
      "Command-line tools are included with the library, alongside a server with a simple web interface.\n",
      "\n",
      "\u001b[0m\n",
      "Thought:\u001b[32;1m\u001b[1;3mThought: I know that Llama is a family of large language models created by Meta AI. \n",
      "Final Answer: Llama is a family of large language models created by Meta AI. \n",
      "\u001b[0m\n",
      "\n",
      "\u001b[1m> Finished chain.\u001b[0m\n"
     ]
    },
    {
     "data": {
      "text/plain": [
       "'Llama is a family of large language models created by Meta AI.'"
      ]
     },
     "execution_count": 79,
     "metadata": {},
     "output_type": "execute_result"
    }
   ],
   "source": [
    "agent.run(\"what is llama and who create this llm model?\")"
   ]
  },
  {
   "cell_type": "code",
   "execution_count": 80,
   "metadata": {},
   "outputs": [],
   "source": [
    "from langchain_community.tools.tavily_search import TavilySearchResults"
   ]
  },
  {
   "cell_type": "code",
   "execution_count": 81,
   "metadata": {},
   "outputs": [],
   "source": [
    "\n",
    "search = TavilySearchResults()"
   ]
  },
  {
   "cell_type": "code",
   "execution_count": 82,
   "metadata": {},
   "outputs": [
    {
     "data": {
      "text/plain": [
       "[{'url': 'https://www.weatherapi.com/',\n",
       "  'content': \"{'location': {'name': 'San Francisco', 'region': 'California', 'country': 'United States of America', 'lat': 37.775, 'lon': -122.4183, 'tz_id': 'America/Los_Angeles', 'localtime_epoch': 1734246663, 'localtime': '2024-12-14 23:11'}, 'current': {'last_updated_epoch': 1734246000, 'last_updated': '2024-12-14 23:00', 'temp_c': 8.3, 'temp_f': 46.9, 'is_day': 0, 'condition': {'text': 'Clear', 'icon': '//cdn.weatherapi.com/weather/64x64/night/113.png', 'code': 1000}, 'wind_mph': 4.7, 'wind_kph': 7.6, 'wind_degree': 259, 'wind_dir': 'W', 'pressure_mb': 1026.0, 'pressure_in': 30.29, 'precip_mm': 0.0, 'precip_in': 0.0, 'humidity': 86, 'cloud': 0, 'feelslike_c': 7.1, 'feelslike_f': 44.8, 'windchill_c': 10.4, 'windchill_f': 50.7, 'heatindex_c': 10.8, 'heatindex_f': 51.4, 'dewpoint_c': 7.6, 'dewpoint_f': 45.6, 'vis_km': 16.0, 'vis_miles': 9.0, 'uv': 0.0, 'gust_mph': 7.2, 'gust_kph': 11.7}}\"},\n",
       " {'url': 'https://www.weather25.com/north-america/usa/california/san-francisco?page=month&month=December',\n",
       "  'content': 'San Francisco weather in December 2024 | Weather25.com San Francisco weather in December 2024 | San Francisco in December | Temperatures in San Francisco in December Weather in San Francisco in December - FAQ The average temperature in San Francisco in December is 8/14° C. On average, there are 4 rainy days in San Francisco during December. Weather wise, is December a good time to visit San Francisco? The weather in San Francisco in December is good. On average, there are 0 snowy days in San Francisco in December. More about the weather in San Francisco San Francisco 14 day weather Long range weather for San Francisco San Francisco weather in November San Francisco Webcam Weather tomorrow Hotels in San Francisco'},\n",
       " {'url': 'https://world-weather.info/forecast/usa/san_francisco/15-december/',\n",
       "  'content': 'Weather in San Francisco Weather in San Francisco, December 15 Weather Forecast for December 15 in San Francisco, California - temperature, wind, atmospheric pressure, humidity and precipitations. Night   +46°    +46°    30.2    4   94% Day +55°    +55°    30.2    6.7 70% Meteorological sensitivity index    3   Meteosensitive people are likely to experience weather-related symptoms. Geomagnetic conditions  2   Solar activity may affect some sensitive people. Day +59°    +59°    30.1    2.7 55% Meteorological sensitivity index    1   Weather situation is generally favorable to meteosensitive people. Geomagnetic conditions  1   Weak solar activity may affect some highly sensitive people. Day +52°    +52°    30.1    4.5 64% Meteorological sensitivity index    1   Weather situation is generally favorable to meteosensitive people. Geomagnetic conditions  1   Weak solar activity may affect some highly sensitive people.'},\n",
       " {'url': 'https://world-weather.info/forecast/usa/san_francisco/december-2024/',\n",
       "  'content': 'Detailed ⚡ San Francisco Weather Forecast for December 2024 - day/night 🌡️ temperatures, precipitations - World-Weather.info ... Widgets °F. World; United States; California; Weather in San Francisco; Weather in San Francisco in December 2024. San Francisco Weather Forecast for December 2024 is based on long term prognosis and'},\n",
       " {'url': 'https://weather.com/weather/monthly/l/54f9d8baac32496f6b5497b4bf7a277c3e2e6cc5625de69680e6169e7e38e9a8',\n",
       "  'content': 'Weather.com brings you the most accurate monthly weather forecast for San Francisco, ... 15 59 ° 47 ° 16. 59 ° 47 ° 17 ... December: 58 ° 47 ° 0: January: 58 ° 47'}]"
      ]
     },
     "execution_count": 82,
     "metadata": {},
     "output_type": "execute_result"
    }
   ],
   "source": [
    "search.invoke(\"what is the weather in SF\")"
   ]
  },
  {
   "cell_type": "code",
   "execution_count": 83,
   "metadata": {},
   "outputs": [],
   "source": [
    "tools = [search]"
   ]
  },
  {
   "cell_type": "code",
   "execution_count": 84,
   "metadata": {},
   "outputs": [],
   "source": [
    "\n",
    "from langchain import hub"
   ]
  },
  {
   "cell_type": "code",
   "execution_count": 85,
   "metadata": {},
   "outputs": [],
   "source": [
    "prompt=hub.pull(\"hwchase17/openai-functions-agent\")"
   ]
  },
  {
   "cell_type": "code",
   "execution_count": 86,
   "metadata": {},
   "outputs": [
    {
     "data": {
      "text/plain": [
       "ChatPromptTemplate(input_variables=['agent_scratchpad', 'input'], optional_variables=['chat_history'], input_types={'chat_history': list[typing.Annotated[typing.Union[typing.Annotated[langchain_core.messages.ai.AIMessage, Tag(tag='ai')], typing.Annotated[langchain_core.messages.human.HumanMessage, Tag(tag='human')], typing.Annotated[langchain_core.messages.chat.ChatMessage, Tag(tag='chat')], typing.Annotated[langchain_core.messages.system.SystemMessage, Tag(tag='system')], typing.Annotated[langchain_core.messages.function.FunctionMessage, Tag(tag='function')], typing.Annotated[langchain_core.messages.tool.ToolMessage, Tag(tag='tool')], typing.Annotated[langchain_core.messages.ai.AIMessageChunk, Tag(tag='AIMessageChunk')], typing.Annotated[langchain_core.messages.human.HumanMessageChunk, Tag(tag='HumanMessageChunk')], typing.Annotated[langchain_core.messages.chat.ChatMessageChunk, Tag(tag='ChatMessageChunk')], typing.Annotated[langchain_core.messages.system.SystemMessageChunk, Tag(tag='SystemMessageChunk')], typing.Annotated[langchain_core.messages.function.FunctionMessageChunk, Tag(tag='FunctionMessageChunk')], typing.Annotated[langchain_core.messages.tool.ToolMessageChunk, Tag(tag='ToolMessageChunk')]], FieldInfo(annotation=NoneType, required=True, discriminator=Discriminator(discriminator=<function _get_type at 0x0000014C77B5AB60>, custom_error_type=None, custom_error_message=None, custom_error_context=None))]], 'agent_scratchpad': list[typing.Annotated[typing.Union[typing.Annotated[langchain_core.messages.ai.AIMessage, Tag(tag='ai')], typing.Annotated[langchain_core.messages.human.HumanMessage, Tag(tag='human')], typing.Annotated[langchain_core.messages.chat.ChatMessage, Tag(tag='chat')], typing.Annotated[langchain_core.messages.system.SystemMessage, Tag(tag='system')], typing.Annotated[langchain_core.messages.function.FunctionMessage, Tag(tag='function')], typing.Annotated[langchain_core.messages.tool.ToolMessage, Tag(tag='tool')], typing.Annotated[langchain_core.messages.ai.AIMessageChunk, Tag(tag='AIMessageChunk')], typing.Annotated[langchain_core.messages.human.HumanMessageChunk, Tag(tag='HumanMessageChunk')], typing.Annotated[langchain_core.messages.chat.ChatMessageChunk, Tag(tag='ChatMessageChunk')], typing.Annotated[langchain_core.messages.system.SystemMessageChunk, Tag(tag='SystemMessageChunk')], typing.Annotated[langchain_core.messages.function.FunctionMessageChunk, Tag(tag='FunctionMessageChunk')], typing.Annotated[langchain_core.messages.tool.ToolMessageChunk, Tag(tag='ToolMessageChunk')]], FieldInfo(annotation=NoneType, required=True, discriminator=Discriminator(discriminator=<function _get_type at 0x0000014C77B5AB60>, custom_error_type=None, custom_error_message=None, custom_error_context=None))]]}, partial_variables={'chat_history': []}, metadata={'lc_hub_owner': 'hwchase17', 'lc_hub_repo': 'openai-functions-agent', 'lc_hub_commit_hash': 'a1655024b06afbd95d17449f21316291e0726f13dcfaf990cc0d18087ad689a5'}, messages=[SystemMessagePromptTemplate(prompt=PromptTemplate(input_variables=[], input_types={}, partial_variables={}, template='You are a helpful assistant'), additional_kwargs={}), MessagesPlaceholder(variable_name='chat_history', optional=True), HumanMessagePromptTemplate(prompt=PromptTemplate(input_variables=['input'], input_types={}, partial_variables={}, template='{input}'), additional_kwargs={}), MessagesPlaceholder(variable_name='agent_scratchpad')])"
      ]
     },
     "execution_count": 86,
     "metadata": {},
     "output_type": "execute_result"
    }
   ],
   "source": [
    "\n",
    "prompt"
   ]
  },
  {
   "cell_type": "code",
   "execution_count": 87,
   "metadata": {},
   "outputs": [
    {
     "data": {
      "text/plain": [
       "[SystemMessagePromptTemplate(prompt=PromptTemplate(input_variables=[], input_types={}, partial_variables={}, template='You are a helpful assistant'), additional_kwargs={}),\n",
       " MessagesPlaceholder(variable_name='chat_history', optional=True),\n",
       " HumanMessagePromptTemplate(prompt=PromptTemplate(input_variables=['input'], input_types={}, partial_variables={}, template='{input}'), additional_kwargs={}),\n",
       " MessagesPlaceholder(variable_name='agent_scratchpad')]"
      ]
     },
     "execution_count": 87,
     "metadata": {},
     "output_type": "execute_result"
    }
   ],
   "source": [
    "prompt.messages"
   ]
  },
  {
   "cell_type": "code",
   "execution_count": 88,
   "metadata": {},
   "outputs": [],
   "source": [
    "from langchain.agents import create_tool_calling_agent\n",
    "agent = create_tool_calling_agent(llm, tools, prompt)"
   ]
  },
  {
   "cell_type": "code",
   "execution_count": 89,
   "metadata": {},
   "outputs": [],
   "source": [
    "from langchain.agents import AgentExecutor\n",
    "agent_executor = AgentExecutor(agent=agent, tools=tools, verbose=True)"
   ]
  },
  {
   "cell_type": "code",
   "execution_count": 90,
   "metadata": {},
   "outputs": [
    {
     "name": "stdout",
     "output_type": "stream",
     "text": [
      "\n",
      "\n",
      "\u001b[1m> Entering new AgentExecutor chain...\u001b[0m\n",
      "\u001b[32;1m\u001b[1;3m\n",
      "Invoking: `tavily_search_results_json` with `{'query': 'hello how are you'}`\n",
      "\n",
      "\n",
      "\u001b[0m\u001b[36;1m\u001b[1;3m[{'url': 'https://www.gonaturalenglish.com/how-to-answer-the-question-how-are-you/', 'content': 'How to Answer the Question “How Are You?” I’m sure one of the very first things you learned to say in English was, “How are you?” People will probably ask you this question A LOT! 1. “How are you?” is Simply Another Way to Say Hello — Here’s How to Answer “Good, thanks, and you?” (positive – this is the most common answer) “Great!” “I’m doing really well, thank you,” or “Fantastic!” are all good ways to answer. Read more: How to Answer the Question “How Are You?” If you smile and say “Good, thanks,” you’ve successfully answered the question. For example, many native English speakers will ask you “How have you been?” instead of “How are you?” So how do you answer that question?'}, {'url': 'https://www.fluentu.com/blog/english/how-are-you-esl/', 'content': 'Say “hello” to as many people as you can and see how they answer your “How are you?”\\nOnce you’ve mastered this question, you might be so happy that you answer\\n“perfect”\\nto the next person who asks how you are!\\nDownload:\\n This can be paired with “same old” like this:\\n“How are you doing?”\\n“Oh, you know… same old”\\nI’ve been better\\nWhen there is something wrong, you can use “I’ve been better” as your first response.\\n The difference between “How are you?” and “How are you doing?”\\nThese phrases are very similar, but “how are you?” is slightly more formal, and may be used more commonly when someone is specifically asking about your health or wellbeing.\\n Let’s look at some formal (more polite) answers to “How are you?”\\nYou will use these answers when you’re talking to\\nacquaintances\\nand\\nstrangers\\n. This will lead your friend or relative to ask you\\n“What’s wrong?”\\nor something similar.\\nCould be worse\\nMaybe things aren’t going well lately, but you have some things to be thankful for.\\n'}, {'url': 'https://eslforums.com/how-are-you/', 'content': 'However, you can also use the question as a simple greeting and move on to a different topic of conversation.\\nWays to Ask “How are you?”\\nTo ask “how are you?”, you can use any of the phrases I provided in my previous responses. How Are You\\nWays to Respond to “How are you?”\\nTo answer the question, you can use any of the phrases I provided as well. Table of Contents\\n“How are you?”\\nHow to Use “How are you?”?\\n or “I’ve been feeling a bit down, but I’m trying to focus on the good things in my life.”\\nResponding to “How are you?” In this lesson, you will learn a list of 16 sentences you can use instead of “How are you?” in English and how to respond to it.'}, {'url': 'https://games4esl.com/how-are-you/', 'content': 'Here are some common ways to answer:\\nGood\\nThe most common way to answer “How are you?” or “How are you doing?” is to simply say “Good”. Variations\\nHere are some common variations of “How are you?” that you might be asked when somebody is greeting you:\\nResponding To “How Are You?” The important thing to remember is that if you are responding to this question with people you are not particularly close with, then you should just respond with a short positive response (“good”, “fine”, etc). Not Bad\\nJust like “okay”, the response “Not bad” also has a neutral feel and is a common way to reply to “How are you?”.\\n Fine\\nAnother way to respond to “How are you?” is to say “Fine” or “I’m fine.”'}, {'url': 'https://www.justsoenglish.com/en/different-ways-of-asking-how-are-you-and-replying-in-english/', 'content': 'Different ways of asking ‘how are you?’ in English. Different ways of asking ‘how are you?’ in English. Because of this, many people learning English are just taught a standard formula: ‘how are you?’, ‘I’m fine, thanks and you?” This is why it is important to know a few other different ways of asking ‘how are you’ (and replying) in English. If you are quite familiar with the other person, you could opt for a less formal ‘you alright?’, which usually elicits a ‘yes I’m alright, thanks’ reply. ‘How’s things?’ is another variant that you can use for a friend, which is a bit more open and invites the other person to be a bit more honest. Different ways of asking ‘how are you?’ in English.'}]\u001b[0m\u001b[32;1m\u001b[1;3m\n",
      "Invoking: `tavily_search_results_json` with `{'query': 'what is the meaning of life'}`\n",
      "\n",
      "\n",
      "\u001b[0m\u001b[36;1m\u001b[1;3m[{'url': 'https://1000wordphilosophy.com/2023/02/06/meaning-of-life/', 'content': 'Much of the contemporary discussion about the meaning of life is provoked by skepticism about traditional religious answers.[10] The phrase “the meaning of life” came into common usage only in the last two centuries, as advances in science, especially evolutionary theory, led many to doubt that life is the product of intelligent, supernatural design.[11] [2] For more detailed overviews of the meaning of life, see Metz (2021) and the entries on the meaning of life by Joshua Seachris and Wendell O’Brien in the Internet Encyclopedia of Philosophy.\\n The meaning of life may be to develop these capacities and put them to good use.[15]\\nOther naturalists are subjectivists about life’s meaning.[16] Existentialists, for example, argue that life has no meaning until we give it meaning by choosing to live for something that we find important.[17]\\nCritics (including nihilists and supernaturalists) argue that the naturalists are fooling themselves. The Meaning of Life: What’s the\\xa0Point?\\nAuthor: Matthew Pianalto\\nCategories: Ethics, Phenomenology and Existentialism, Philosophy of Religion\\nWord Count: 1000\\nEditors’ note: this essay and its companion essay, Meaning in Life: What Makes Our Lives Meaningful? philosophy.eku.edu/pianalto\\nShare this:\\nRelated\\nPost navigation\\n5 thoughts on “The Meaning of Life: What’s the\\xa0Point?”\\nComments are closed.\\n'}, {'url': 'https://www.worldatlas.com/philosophy/5-philosophical-answers-to-the-meaning-of-life.html', 'content': 'For example, if someone has a goal to learn a musical instrument, a subordinate goal could be to learn to play a specific song, and a subordinate goal to that could be to play in a band, with a\\xa0 subordinate goal to spend time doing something fun in a group. While there are traditionally two answers to the search for meaning, either life is meaningless, or the meaning to life is set by a higher power such as God, absurdism says the efforts of people to find meaning will still fail because there are too many unknowns. The Controversial Philosophy Of Hannah Arendt\\nCountries That Have Produced The Most Serial Killers\\nThe US States With the Most Serial Killings\\n13 Examples of Philosophy\\nAll maps, graphics, flags, photos and original descriptions © 2024 worldatlas.com According to the Stoics, the meaning of life is to live in accordance with reason and virtue to find fulfillment and peace. These five different philosophical answers and approaches to the question of the meaning of life showcase the vast diversity of human thought.\\n'}, {'url': 'https://www.mentalfloss.com/posts/famous-philosophers-on-the-meaning-of-life', 'content': 'Explore how Immanuel Kant, Friedrich Nietzsche, and Albert Camus addressed the question of the meaning of life in their works. Learn about their different perspectives on morality, reason, psychology, and individuality.'}, {'url': 'https://plato.stanford.edu/archivES/FALL2017/Entries/life-meaning/', 'content': \"10–11;\\nSinger 1996, ch. 4); overcoming challenges that one recognizes to be\\nimportant at one's stage of history (Dworkin 2000, ch. 6);\\nconstituting rewarding experiences in the life of the agent or the\\nlives of others the agent affects (Audi 2005); making progress toward\\nends that in principle can never be completely realized because one's\\nknowledge of them changes as one approaches them (Levy 2005);\\nrealizing goals that are transcendent for being long-lasting in\\nduration and broad in scope (Mintoff 2008); or contouring intelligence\\ntoward fundamental conditions of human life (Metz 2013).\\n Bibliography\\nWorks Cited\\nCollections\\nBooks for the General Reader\\nAcademic Tools\\nOther Internet Resources\\nRelated Entries\\nafterlife |\\ndeath |\\nethics: ancient |\\nexistentialism |\\nfriendship |\\nlove |\\nperfectionism, in moral and political philosophy |\\nvalue: intrinsic vs. extrinsic |\\nwell-being\\n More recently, some have maintained that objectively meaningful\\nconditions are just those that involve: transcending the limits of the\\nself to connect with organic unity (Nozick 1981, ch. 6, 1989,\\nchs. 15–16); realizing human excellence in oneself (Bond 1983,\\nchs. 6, 8); maximally promoting non-hedonist goods such as friendship,\\nbeauty, and knowledge (Railton 1984); exercising or promoting rational\\nnature in exceptional ways (Hurka 1993; Smith 1997, 179–221;\\nGewirth 1998, ch. 5); substantially improving the quality of life of\\npeople and animals (Singer 1993, ch. 12, 1995, chs. In addition, the\\nabove purpose-based analyses exclude as not being about life's\\nmeaning some of the most widely read texts that purport to be about\\nit, namely, Jean-Paul Sartre's (1948) existentialist account of\\nmeaning being constituted by whatever one chooses, and Richard\\nTaylor's (1970, ch. 18) discussion of Sisyphus being able to acquire\\nmeaning in his life merely by having his strongest desires satisfied.\\n Objectivism\\nis thought to be the best explanation for these respective kinds of\\njudgments: the former are actions that are meaningful regardless of\\nwhether any arbitrary agent (whether it be an individual,her society,\\nor even God) judges them to be meaningful or seeks to engage in them,\\nwhile the latter actions simply lack significance and cannot obtain it\\nif someone believes them to have it or engages in them.\"}, {'url': 'https://en.wikipedia.org/wiki/Meaning_of_life', 'content': 'Friedrich Nietzsche characterized nihilism as emptying the world, and especially human existence, of meaning, purpose, comprehensible truth, and essential value; succinctly, nihilism is the process of \"the devaluing of the highest values\".[80] Seeing the nihilist as a natural result of the idea that God is dead, and insisting it was something to overcome, his questioning of the nihilist\\'s life-negating values returned meaning to the Earth.[81]\\nTo Martin Heidegger, nihilism is the movement whereby \"being\" is forgotten, and is transformed into value, in other words, the reduction of being to exchange value.[80] Heidegger, in accordance with Nietzsche, saw in the so-called \"death of God\" a potential source for nihilism:\\nIf God, as the supra-sensory ground and goal, of all reality, is dead; if the supra-sensory world of the Ideas has suffered the loss of its obligatory, and above it, its vitalizing and up-building power, then nothing more remains to which Man can cling, and by which he can orient himself.[82]\\nThe French philosopher Albert Camus asserts that the absurdity of the human condition is that people search for external values and meaning in a world which has none and is indifferent to them. These subjects are mostly addressed in the fields of cognitive science, neuroscience (e.g. the neuroscience of free will) and philosophy of mind, though some evolutionary biologists and theoretical physicists have also made several allusions to the subject.[50][51]\\nReductionistic and eliminative materialistic approaches, for example the Multiple Drafts Model, hold that consciousness can be wholly explained by neuroscience through the workings of the brain and its neurons, thus adhering to biological naturalism.[51][52][53]\\nOn the other hand, some scientists, like Andrei Linde, have considered that consciousness, like spacetime, might have its own intrinsic degrees of freedom, and that one\\'s perceptions may be as real as (or even more real than) material objects.[54] Hypotheses of consciousness and spacetime explain consciousness in describing a \"space of conscious elements\",[54] often encompassing a number of extra dimensions.[55] Electromagnetic theories of consciousness solve the binding problem of consciousness in saying that the electromagnetic field generated by the brain is the actual carrier of conscious experience; there is however disagreement about the implementations of such a theory relating to other workings of the mind.[56][57] Quantum mind theories use quantum theory in explaining certain properties of the mind. Ludwig Wittgenstein and the logical positivists said:[citation needed] \"Expressed in language, the question is meaningless\"; because, in life the statement the \"meaning of x\", usually denotes the consequences of x, or the significance of x, or what is notable about x, etc., thus, when the meaning of life concept equals \"x\", in the statement the \"meaning of x\", the statement becomes recursive, and, therefore, nonsensical, or it might refer to the fact that biological life is essential to having a meaning in life.\\n Some popular answers include:\\nTo realize one\\'s potential and ideals\\nTo evolve, or to achieve biological perfection\\nTo seek wisdom and knowledge\\nTo do good, to do the right thing\\nMeanings relating to religion\\nTo love, to feel, to enjoy the act of living\\nTo have power, to be better\\nLife has no meaning\\nOne should not seek to know and understand the meaning of life\\nIn popular culture\\n Cyrenaics prefer immediate gratification to the long-term gain of delayed gratification; denial is unpleasant unhappiness.[72][73]\\nEpicurus, a pupil of the Platonist Pamphilus of Samos, taught that the greatest good is in seeking modest pleasures, to attain tranquility and freedom from fear (ataraxia) via knowledge, friendship, and virtuous, temperate living; bodily pain (aponia) is absent through one\\'s knowledge of the workings of the world and of the limits of one\\'s desires.'}]\u001b[0m\u001b[32;1m\u001b[1;3m\n",
      "Invoking: `tavily_search_results_json` with `{'query': 'what is the best way to live a meaningful life'}`\n",
      "\n",
      "\n",
      "\u001b[0m\u001b[36;1m\u001b[1;3m[{'url': 'https://www.minimalismmadesimple.com/home/meaningful-life/', 'content': '15 Ways to Live a Meaningful Life - 15 Ways to Live a Meaningful Life Living a meaningful life ultimately means discerning what is important to you and being true to yourself in the choices you make along the journey. I’m sorry to be the bearer of bad news; if your goal is to live\\xa0a meaningful life,\\xa0you\\xa0need to be\\xa0willing to\\xa0part ways with\\xa0the people and activities you engage in that don’t make you feel good. 15 Ways to Live a Meaningful Life One of the most important ways to live a meaningful life is to make sure you are being true to who you are at all times.'}, {'url': 'https://upjourney.com/how-to-live-a-meaningful-life', 'content': 'One of the best ways to handle stress is by cultivating healthy, routine habits supporting mental, physical, and emotional health. ... \"You can live a meaningful life by finding your passion and sharing it with the world. If you are enthusiastic about something it will not only rub off on others, but it will bring more meaning to your life'}, {'url': 'https://howtoliveameaningfullife.com/living-a-meaningful-life/', 'content': 'At the start of 2021, I told myself I had to commit myself to living the meaningful life I always wanted. Living a meaningful life is about living with purpose, fulfillment, satisfaction and significance. While those words will mean different things to different people, they translate into how we feel about our lives. Living a meaningful life'}, {'url': 'https://greatergood.berkeley.edu/article/item/four_keys_to_a_meaningful_life', 'content': 'People who describe their lives as meaningful tend to have redemptive stories where they overcame something negative, and to emphasize growth, communion with others, and personal agency. Laura Kray and colleagues found that asking people to consider paths not taken in life and the consequences of those choices imbued experiences with more'}, {'url': 'https://www.ted.com/talks/brian_s_lowery_how_to_live_a_meaningful_life/transcript', 'content': \"What makes for a meaningful life? Social psychologist Brian S. Lowery explores three ideas tied to the experience of meaning and shows why simply pursuing personal achievements isn't the best way to find it.\"}]\u001b[0m\u001b[32;1m\u001b[1;3m\u001b[0m\n",
      "\n",
      "\u001b[1m> Finished chain.\u001b[0m\n"
     ]
    },
    {
     "data": {
      "text/plain": [
       "{'input': 'hello how are you?', 'output': ''}"
      ]
     },
     "execution_count": 90,
     "metadata": {},
     "output_type": "execute_result"
    }
   ],
   "source": [
    "agent_executor.invoke({\"input\": \"hello how are you?\"})"
   ]
  },
  {
   "cell_type": "code",
   "execution_count": 91,
   "metadata": {},
   "outputs": [
    {
     "name": "stdout",
     "output_type": "stream",
     "text": [
      "\n",
      "\n",
      "\u001b[1m> Entering new AgentExecutor chain...\u001b[0m\n",
      "\u001b[32;1m\u001b[1;3m\n",
      "Invoking: `tavily_search_results_json` with `{'query': 'weather in sf'}`\n",
      "\n",
      "\n",
      "\u001b[0m\u001b[36;1m\u001b[1;3m[{'url': 'https://www.weatherapi.com/', 'content': \"{'location': {'name': 'San Francisco', 'region': 'California', 'country': 'United States of America', 'lat': 37.775, 'lon': -122.4183, 'tz_id': 'America/Los_Angeles', 'localtime_epoch': 1734246663, 'localtime': '2024-12-14 23:11'}, 'current': {'last_updated_epoch': 1734246000, 'last_updated': '2024-12-14 23:00', 'temp_c': 8.3, 'temp_f': 46.9, 'is_day': 0, 'condition': {'text': 'Clear', 'icon': '//cdn.weatherapi.com/weather/64x64/night/113.png', 'code': 1000}, 'wind_mph': 4.7, 'wind_kph': 7.6, 'wind_degree': 259, 'wind_dir': 'W', 'pressure_mb': 1026.0, 'pressure_in': 30.29, 'precip_mm': 0.0, 'precip_in': 0.0, 'humidity': 86, 'cloud': 0, 'feelslike_c': 7.1, 'feelslike_f': 44.8, 'windchill_c': 10.4, 'windchill_f': 50.7, 'heatindex_c': 10.8, 'heatindex_f': 51.4, 'dewpoint_c': 7.6, 'dewpoint_f': 45.6, 'vis_km': 16.0, 'vis_miles': 9.0, 'uv': 0.0, 'gust_mph': 7.2, 'gust_kph': 11.7}}\"}, {'url': 'https://www.timeanddate.com/weather/@z-us-94141/ext', 'content': 'San Francisco, USA 14 day weather forecast Time Zone News Calendar & Holiday News Time Zones Time Zones Home Time Zone News Calendar & Holiday News Weather Sun & Moon Home Sun Calculator Moon Calculator Calculators Calculators Home Home \\xa0 Weather \\xa0 San Francisco \\xa0 Two-week forecast Weather Time Zone Last 2 weeks of weather Nov 15 |  | 61 / 49\\xa0°F | Sunny. Nov 25 |  | 60 / 51\\xa0°F | Sunny. Nov 26 |  | 56 / 48\\xa0°F | Sunny. | * Updated Friday, November 15, 2024 1:24:06 pm San Francisco time - Weather by CustomWeather, © 2024 | Hour-by-hour weather for San Francisco next 7 days Sun & Moon times precise to the second. Time Zones Weather Calculators'}, {'url': 'https://forecast.weather.gov/MapClick.php?lat=37.7800771&lon=-122.4201615', 'content': 'Current conditions at SAN FRANCISCO DOWNTOWN (SFOC1) Lat: 37.77056°NLon: 122.42694°WElev: 150.0ft. NA. 52°F. 11°C. ... San Francisco CA 37.77°N 122.41°W (Elev. 131 ft) Last Update: 2:33 pm PST Dec 11, 2024. Forecast Valid: 12am PST Dec 12, 2024-6pm PST Dec 18, 2024 . Forecast Discussion . Additional Resources. Radar & Satellite Image'}, {'url': 'https://world-weather.info/forecast/usa/san_francisco/december-2024/', 'content': 'Detailed ⚡ San Francisco Weather Forecast for December 2024 - day/night 🌡️ temperatures, precipitations - World-Weather.info ... World; United States; California; Weather in San Francisco; Weather in San Francisco in December 2024. San Francisco Weather Forecast for December 2024 is based on long term prognosis and previous years'}, {'url': 'https://www.timeanddate.com/weather/@z-us-94122/hourly', 'content': 'Time Zone News Calendar & Holiday News Time Zones Time Zones Home Time Changes Worldwide Time Zone News Calendar & Holiday News Weather Moon Calculator Calculators Calculators Home Home \\xa0 Weather \\xa0 San Francisco \\xa0 Hour-by-hour Weather Time Zone °F See Extended Forecast for more weather Show weather on:  | 9:00 pm |  | 56\\xa0°F | Rain showers. | 10:00 pm |  | 56\\xa0°F | Rain showers. | 11:00 pm |  | 56\\xa0°F | Light showers. | 4:00 pm |  | 57\\xa0°F | Overcast. | * Updated Friday, November 22, 2024 5:42:59 pm San Francisco time - Weather by CustomWeather, © 2024 | Sun & Moon times precise to the second. Privacy Policy Time Zones Weather Calculators Privacy & Terms'}]\u001b[0m\u001b[32;1m\u001b[1;3m\n",
      "Invoking: `tavily_search_results_json` with `{'query': 'weather in sf today'}`\n",
      "\n",
      "\n",
      "\u001b[0m\u001b[36;1m\u001b[1;3m[{'url': 'https://www.weatherapi.com/', 'content': \"{'location': {'name': 'San Francisco', 'region': 'California', 'country': 'United States of America', 'lat': 37.775, 'lon': -122.4183, 'tz_id': 'America/Los_Angeles', 'localtime_epoch': 1734246663, 'localtime': '2024-12-14 23:11'}, 'current': {'last_updated_epoch': 1734246000, 'last_updated': '2024-12-14 23:00', 'temp_c': 8.3, 'temp_f': 46.9, 'is_day': 0, 'condition': {'text': 'Clear', 'icon': '//cdn.weatherapi.com/weather/64x64/night/113.png', 'code': 1000}, 'wind_mph': 4.7, 'wind_kph': 7.6, 'wind_degree': 259, 'wind_dir': 'W', 'pressure_mb': 1026.0, 'pressure_in': 30.29, 'precip_mm': 0.0, 'precip_in': 0.0, 'humidity': 86, 'cloud': 0, 'feelslike_c': 7.1, 'feelslike_f': 44.8, 'windchill_c': 10.4, 'windchill_f': 50.7, 'heatindex_c': 10.8, 'heatindex_f': 51.4, 'dewpoint_c': 7.6, 'dewpoint_f': 45.6, 'vis_km': 16.0, 'vis_miles': 9.0, 'uv': 0.0, 'gust_mph': 7.2, 'gust_kph': 11.7}}\"}, {'url': 'https://en.climate-data.org/north-america/united-states-of-america/california/san-francisco-385/t/december-12/', 'content': 'Are you planning a holiday with hopefully nice weather in San Francisco in December 2024? Here you can find all information about the weather in San Francisco in December: >>Overview: ... 15. December: 10 °C | 50 °F : 14 °C | 56 °F: 7 °C | 44 °F: 12 °C | 53 °F: 3.1 mm | 0.1 inch. 16. December: 10 °C | 50 °F : 14 °C | 57 °F:'}, {'url': 'https://world-weather.info/forecast/usa/san_francisco/december-2024/', 'content': 'Detailed ⚡ San Francisco Weather Forecast for December 2024 - day/night 🌡️ temperatures, precipitations - World-Weather.info ... Add the current city. Search. Weather; Archive; Widgets °F. World; United States; California; Weather in San Francisco; Weather in San Francisco in December 2024. ... 15 +55° +48° 16 +57° +46° 17'}, {'url': 'https://www.weather25.com/north-america/usa/california/san-francisco?page=month&month=December', 'content': 'San Francisco weather in December 2024 | Weather25.com San Francisco weather in December 2024 | San Francisco in December | Temperatures in San Francisco in December Weather in San Francisco in December - FAQ The average temperature in San Francisco in December is 8/14° C. On average, there are 4 rainy days in San Francisco during December. Weather wise, is December a good time to visit San Francisco? The weather in San Francisco in December is good. On average, there are 0 snowy days in San Francisco in December. More about the weather in San Francisco San Francisco 14 day weather Long range weather for San Francisco San Francisco weather in November San Francisco Webcam Weather tomorrow Hotels in San Francisco'}, {'url': 'https://world-weather.info/forecast/usa/san_francisco/15-december/', 'content': 'Weather in San Francisco Weather in San Francisco, December 15 Weather Forecast for December 15 in San Francisco, California - temperature, wind, atmospheric pressure, humidity and precipitations. Night   +46°    +46°    30.2    4   94% Day +55°    +55°    30.2    6.7 70% Meteorological sensitivity index    3   Meteosensitive people are likely to experience weather-related symptoms. Geomagnetic conditions  2   Solar activity may affect some sensitive people. Day +59°    +59°    30.1    2.7 55% Meteorological sensitivity index    1   Weather situation is generally favorable to meteosensitive people. Geomagnetic conditions  1   Weak solar activity may affect some highly sensitive people. Day +52°    +52°    30.1    4.5 64% Meteorological sensitivity index    1   Weather situation is generally favorable to meteosensitive people. Geomagnetic conditions  1   Weak solar activity may affect some highly sensitive people.'}]\u001b[0m\u001b[32;1m\u001b[1;3mIt is currently 8.3 degrees Celsius and 46.9 degrees Fahrenheit in San Francisco. \n",
      "\n",
      "\n",
      "\u001b[0m\n",
      "\n",
      "\u001b[1m> Finished chain.\u001b[0m\n"
     ]
    },
    {
     "data": {
      "text/plain": [
       "{'input': 'whats the weather in sf?',\n",
       " 'output': 'It is currently 8.3 degrees Celsius and 46.9 degrees Fahrenheit in San Francisco. \\n\\n\\n'}"
      ]
     },
     "execution_count": 91,
     "metadata": {},
     "output_type": "execute_result"
    }
   ],
   "source": [
    "\n",
    "agent_executor.invoke({\"input\": \"whats the weather in sf?\"})"
   ]
  },
  {
   "cell_type": "code",
   "execution_count": 92,
   "metadata": {},
   "outputs": [],
   "source": [
    "from langchain_community.document_loaders import WebBaseLoader\n",
    "from langchain_community.vectorstores import FAISS\n",
    "from langchain_text_splitters import RecursiveCharacterTextSplitter"
   ]
  },
  {
   "cell_type": "code",
   "execution_count": 93,
   "metadata": {},
   "outputs": [],
   "source": [
    "loader = WebBaseLoader(\"https://docs.smith.langchain.com/overview\")\n",
    "docs = loader.load()"
   ]
  },
  {
   "cell_type": "code",
   "execution_count": 94,
   "metadata": {},
   "outputs": [],
   "source": [
    "\n",
    "documents = RecursiveCharacterTextSplitter(\n",
    "    chunk_size=1000, chunk_overlap=200\n",
    ").split_documents(docs)"
   ]
  },
  {
   "cell_type": "code",
   "execution_count": 95,
   "metadata": {},
   "outputs": [],
   "source": [
    "\n",
    "vector = FAISS.from_documents(documents,embeddings)\n",
    "retriever = vector.as_retriever()"
   ]
  },
  {
   "cell_type": "code",
   "execution_count": 96,
   "metadata": {},
   "outputs": [
    {
     "data": {
      "text/plain": [
       "Document(metadata={'source': 'https://docs.smith.langchain.com/overview', 'title': 'Get started with LangSmith | 🦜️🛠️ LangSmith', 'description': 'LangSmith is a platform for building production-grade LLM applications.', 'language': 'en'}, page_content='Run the evaluationexperiment_results = client.evaluate(    dummy_app, # Your AI system goes here    data=dataset, # The data to predict and grade over    evaluators=[exact_match], # The evaluators to score the results    experiment_prefix=\"sample-experiment\", # The name of the experiment    metadata={\"version\": \"1.0.0\", \"revision_id\": \"beta\"}, # Metadata about the experiment    max_concurrency=4,  # Add concurrency.)# Analyze the results via the UI or programmatically# If you have \\'pandas\\' installed you can view the results as a# pandas DataFrame by uncommenting below:# experiment_results.to_pandas()import { Client } from \"langsmith\";import { EvaluationResult, evaluate } from \"langsmith/evaluation\";const client = new Client();// Define dataset: these are your test casesconst datasetName = \"Sample Dataset\";const dataset = await client.createDataset(datasetName, {  description: \"A sample dataset in LangSmith.\",});await client.createExamples({  inputs: [    { postfix: \"to LangSmith\" },')"
      ]
     },
     "execution_count": 96,
     "metadata": {},
     "output_type": "execute_result"
    }
   ],
   "source": [
    "\n",
    "retriever.invoke(\"how to upload a dataset\")[0]"
   ]
  },
  {
   "cell_type": "code",
   "execution_count": 97,
   "metadata": {},
   "outputs": [],
   "source": [
    "\n",
    "from langchain.tools.retriever import create_retriever_tool\n",
    "retriever_tool = create_retriever_tool(\n",
    "    retriever,\n",
    "    \"langsmith_search\",\n",
    "    \"Search for information about LangSmith. For any questions about LangSmith, you must use this tool!\",\n",
    ")"
   ]
  },
  {
   "cell_type": "code",
   "execution_count": 98,
   "metadata": {},
   "outputs": [],
   "source": [
    "tools = [search, retriever_tool]"
   ]
  },
  {
   "cell_type": "code",
   "execution_count": 99,
   "metadata": {},
   "outputs": [],
   "source": [
    "from langchain.agents import create_tool_calling_agent\n",
    "\n",
    "agent = create_tool_calling_agent(llm, tools, prompt)"
   ]
  },
  {
   "cell_type": "code",
   "execution_count": 100,
   "metadata": {},
   "outputs": [],
   "source": [
    "from langchain.agents import AgentExecutor\n",
    "\n",
    "agent_executor = AgentExecutor(agent=agent, tools=tools, verbose=True)"
   ]
  },
  {
   "cell_type": "code",
   "execution_count": 101,
   "metadata": {},
   "outputs": [
    {
     "name": "stdout",
     "output_type": "stream",
     "text": [
      "\n",
      "\n",
      "\u001b[1m> Entering new AgentExecutor chain...\u001b[0m\n",
      "\u001b[32;1m\u001b[1;3m\n",
      "Invoking: `langsmith_search` with `{'query': 'what is a langsmith'}`\n",
      "\n",
      "\n",
      "\u001b[0m\u001b[33;1m\u001b[1;3mClick the link printed out by your evaluation run to access the LangSmith experiments UI,\n",
      "and explore the results of your evaluation.\n",
      "Learn more about evaluation in the tutorials, conceptual guide, and how-to guides.\n",
      "Was this page helpful?You can leave detailed feedback on GitHub.NextConcepts1. Install LangSmith2. Create an API key3. Set up your environment4. Log your first trace5. View your trace6. Run your first evaluationCommunityDiscordTwitterGitHubDocs CodeLangSmith SDKPythonJS/TSMoreHomepageBlogLangChain Python DocsLangChain JS/TS DocsCopyright © 2024 LangChain, Inc.\n",
      "\n",
      "Get started with LangSmith | 🦜️🛠️ LangSmith\n",
      "\n",
      "\n",
      "\n",
      "\n",
      "\n",
      "\n",
      "Skip to main contentLearn the essentials of LangSmith in the new Introduction to LangSmith course!  Enroll for free. API ReferenceRESTPythonSearchRegionUSEUGo to AppQuick StartObservabilityEvaluationPrompt EngineeringDeployment (LangGraph Platform)AdministrationSelf-hostingPricingReferenceCloud architecture and scalabilityAuthz and AuthnAuthentication methodsdata_formatsEvaluationDataset transformationsRegions FAQsdk_referenceQuick StartOn this pageGet started with LangSmith\n",
      "LangSmith is a platform for building production-grade LLM applications.\n",
      "It allows you to closely monitor and evaluate your application, so you can ship quickly and with confidence.\n",
      "With LangSmith you can:\n",
      "\n",
      "LangSmith + LangChain OSSLangSmith integrates seamlessly with LangChain's open source frameworks langchain and langgraph, with no extra instrumentation needed.If you're already using either of these, see the how-to guide for setting up LangSmith with LangChain or setting up LangSmith with LangGraph.\n",
      "LangSmith is a standalone platform that can be used on it's own no matter how you're creating your LLM applicatons.\n",
      "In this tutorial, we'll walk you though logging your first trace in LangSmith using the LangSmith SDK and running an evaluation to measure the performance of your application. This example uses the OpenAI API, however you can use your provider of choice.\n",
      "1. Install LangSmith​\n",
      "PythonTypeScriptpip install -U langsmith openaiyarn add langsmith openai\n",
      "2. Create an API key​\n",
      "To create an API key head to the Settings page. Then click Create API Key.\n",
      "3. Set up your environment​\n",
      "\n",
      "PythonTypeScriptpip install -U langsmith openaiyarn add langsmith openai\n",
      "2. Create an API key​\n",
      "To create an API key head to the Settings page. Then click Create API Key.\n",
      "3. Set up your environment​\n",
      "Shellexport LANGCHAIN_TRACING_V2=trueexport LANGCHAIN_API_KEY=<your-api-key>export OPENAI_API_KEY=<your-openai-api-key>\n",
      "4. Log your first trace​\n",
      "We provide multiple ways to log traces to LangSmith. Below, we'll highlight\n",
      "how to use traceable(). See more on the Annotate code for tracing page.\u001b[0m\u001b[32;1m\u001b[1;3m\n",
      "Invoking: `langsmith_search` with `{'query': 'what is LangSmith'}`\n",
      "\n",
      "\n",
      "\u001b[0m\u001b[33;1m\u001b[1;3mGet started with LangSmith | 🦜️🛠️ LangSmith\n",
      "\n",
      "\n",
      "\n",
      "\n",
      "\n",
      "\n",
      "Skip to main contentLearn the essentials of LangSmith in the new Introduction to LangSmith course!  Enroll for free. API ReferenceRESTPythonSearchRegionUSEUGo to AppQuick StartObservabilityEvaluationPrompt EngineeringDeployment (LangGraph Platform)AdministrationSelf-hostingPricingReferenceCloud architecture and scalabilityAuthz and AuthnAuthentication methodsdata_formatsEvaluationDataset transformationsRegions FAQsdk_referenceQuick StartOn this pageGet started with LangSmith\n",
      "LangSmith is a platform for building production-grade LLM applications.\n",
      "It allows you to closely monitor and evaluate your application, so you can ship quickly and with confidence.\n",
      "With LangSmith you can:\n",
      "\n",
      "Click the link printed out by your evaluation run to access the LangSmith experiments UI,\n",
      "and explore the results of your evaluation.\n",
      "Learn more about evaluation in the tutorials, conceptual guide, and how-to guides.\n",
      "Was this page helpful?You can leave detailed feedback on GitHub.NextConcepts1. Install LangSmith2. Create an API key3. Set up your environment4. Log your first trace5. View your trace6. Run your first evaluationCommunityDiscordTwitterGitHubDocs CodeLangSmith SDKPythonJS/TSMoreHomepageBlogLangChain Python DocsLangChain JS/TS DocsCopyright © 2024 LangChain, Inc.\n",
      "\n",
      "LangSmith + LangChain OSSLangSmith integrates seamlessly with LangChain's open source frameworks langchain and langgraph, with no extra instrumentation needed.If you're already using either of these, see the how-to guide for setting up LangSmith with LangChain or setting up LangSmith with LangGraph.\n",
      "LangSmith is a standalone platform that can be used on it's own no matter how you're creating your LLM applicatons.\n",
      "In this tutorial, we'll walk you though logging your first trace in LangSmith using the LangSmith SDK and running an evaluation to measure the performance of your application. This example uses the OpenAI API, however you can use your provider of choice.\n",
      "1. Install LangSmith​\n",
      "PythonTypeScriptpip install -U langsmith openaiyarn add langsmith openai\n",
      "2. Create an API key​\n",
      "To create an API key head to the Settings page. Then click Create API Key.\n",
      "3. Set up your environment​\n",
      "\n",
      "PythonTypeScriptpip install -U langsmith openaiyarn add langsmith openai\n",
      "2. Create an API key​\n",
      "To create an API key head to the Settings page. Then click Create API Key.\n",
      "3. Set up your environment​\n",
      "Shellexport LANGCHAIN_TRACING_V2=trueexport LANGCHAIN_API_KEY=<your-api-key>export OPENAI_API_KEY=<your-openai-api-key>\n",
      "4. Log your first trace​\n",
      "We provide multiple ways to log traces to LangSmith. Below, we'll highlight\n",
      "how to use traceable(). See more on the Annotate code for tracing page.\u001b[0m\u001b[32;1m\u001b[1;3mLangSmith is a platform for building production-grade LLM applications. It allows you to closely monitor and evaluate your application, so you can ship quickly and with confidence. \n",
      "\u001b[0m\n",
      "\n",
      "\u001b[1m> Finished chain.\u001b[0m\n"
     ]
    },
    {
     "data": {
      "text/plain": [
       "{'input': 'hi! what is a langsmith?',\n",
       " 'output': 'LangSmith is a platform for building production-grade LLM applications. It allows you to closely monitor and evaluate your application, so you can ship quickly and with confidence. \\n'}"
      ]
     },
     "execution_count": 101,
     "metadata": {},
     "output_type": "execute_result"
    }
   ],
   "source": [
    "agent_executor.invoke({\"input\": \"hi! what is a langsmith?\"})"
   ]
  },
  {
   "cell_type": "code",
   "execution_count": 102,
   "metadata": {},
   "outputs": [
    {
     "name": "stdout",
     "output_type": "stream",
     "text": [
      "\n",
      "\n",
      "\u001b[1m> Entering new AgentExecutor chain...\u001b[0m\n",
      "\u001b[32;1m\u001b[1;3m\n",
      "Invoking: `tavily_search_results_json` with `{'query': 'weather in san francisco'}`\n",
      "\n",
      "\n",
      "\u001b[0m\u001b[36;1m\u001b[1;3m[{'url': 'https://www.weatherapi.com/', 'content': \"{'location': {'name': 'San Francisco', 'region': 'California', 'country': 'United States of America', 'lat': 37.775, 'lon': -122.4183, 'tz_id': 'America/Los_Angeles', 'localtime_epoch': 1734246663, 'localtime': '2024-12-14 23:11'}, 'current': {'last_updated_epoch': 1734246000, 'last_updated': '2024-12-14 23:00', 'temp_c': 8.3, 'temp_f': 46.9, 'is_day': 0, 'condition': {'text': 'Clear', 'icon': '//cdn.weatherapi.com/weather/64x64/night/113.png', 'code': 1000}, 'wind_mph': 4.7, 'wind_kph': 7.6, 'wind_degree': 259, 'wind_dir': 'W', 'pressure_mb': 1026.0, 'pressure_in': 30.29, 'precip_mm': 0.0, 'precip_in': 0.0, 'humidity': 86, 'cloud': 0, 'feelslike_c': 7.1, 'feelslike_f': 44.8, 'windchill_c': 10.4, 'windchill_f': 50.7, 'heatindex_c': 10.8, 'heatindex_f': 51.4, 'dewpoint_c': 7.6, 'dewpoint_f': 45.6, 'vis_km': 16.0, 'vis_miles': 9.0, 'uv': 0.0, 'gust_mph': 7.2, 'gust_kph': 11.7}}\"}, {'url': 'https://www.weather25.com/north-america/usa/california/san-francisco?page=month&month=December', 'content': 'San Francisco weather in December 2024 | Weather25.com San Francisco weather in December 2024 | San Francisco in December | Temperatures in San Francisco in December Weather in San Francisco in December - FAQ The average temperature in San Francisco in December is 8/14° C. On average, there are 4 rainy days in San Francisco during December. Weather wise, is December a good time to visit San Francisco? The weather in San Francisco in December is good. On average, there are 0 snowy days in San Francisco in December. More about the weather in San Francisco San Francisco 14 day weather Long range weather for San Francisco San Francisco weather in November San Francisco Webcam Weather tomorrow Hotels in San Francisco'}, {'url': 'https://world-weather.info/forecast/usa/san_francisco/15-december/', 'content': 'Weather in San Francisco Weather in San Francisco, December 15 Weather Forecast for December 15 in San Francisco, California - temperature, wind, atmospheric pressure, humidity and precipitations. Night   +46°    +46°    30.2    4   94% Day +55°    +55°    30.2    6.7 70% Meteorological sensitivity index    3   Meteosensitive people are likely to experience weather-related symptoms. Geomagnetic conditions  2   Solar activity may affect some sensitive people. Day +59°    +59°    30.1    2.7 55% Meteorological sensitivity index    1   Weather situation is generally favorable to meteosensitive people. Geomagnetic conditions  1   Weak solar activity may affect some highly sensitive people. Day +52°    +52°    30.1    4.5 64% Meteorological sensitivity index    1   Weather situation is generally favorable to meteosensitive people. Geomagnetic conditions  1   Weak solar activity may affect some highly sensitive people.'}, {'url': 'https://world-weather.info/forecast/usa/san_francisco/december-2024/', 'content': 'Detailed ⚡ San Francisco Weather Forecast for December 2024 - day/night 🌡️ temperatures, precipitations - World-Weather.info ... Widgets °F. World; United States; California; Weather in San Francisco; Weather in San Francisco in December 2024. San Francisco Weather Forecast for December 2024 is based on long term prognosis and'}, {'url': 'https://weatherspark.com/h/m/557/2024/12/Historical-Weather-in-December-2024-in-San-Francisco-California-United-States', 'content': 'This report shows the past weather for San Francisco, providing a weather history for December 2024. It features all historical weather data series we have available, including the San Francisco temperature history for December 2024. Hourly Temperature in December 2024 in San Francisco Cloud Cover in December 2024 in San Francisco Daily Precipitation in December 2024 in San Francisco Observed Weather in December 2024 in San Francisco Hours of Daylight and Twilight in December 2024 in San Francisco Humidity Comfort Levels in December 2024 in San Francisco Wind Speed in December 2024 in San Francisco Hourly Wind Speed in December 2024 in San Francisco The details of the data sources used for this report can be found on the San Francisco International Airport page.'}]\u001b[0m\u001b[32;1m\u001b[1;3m\n",
      "Invoking: `tavily_search_results_json` with `{'query': 'weather in san francisco'}`\n",
      "\n",
      "\n",
      "\u001b[0m\u001b[36;1m\u001b[1;3m[{'url': 'https://www.weatherapi.com/', 'content': \"{'location': {'name': 'San Francisco', 'region': 'California', 'country': 'United States of America', 'lat': 37.775, 'lon': -122.4183, 'tz_id': 'America/Los_Angeles', 'localtime_epoch': 1734246663, 'localtime': '2024-12-14 23:11'}, 'current': {'last_updated_epoch': 1734246000, 'last_updated': '2024-12-14 23:00', 'temp_c': 8.3, 'temp_f': 46.9, 'is_day': 0, 'condition': {'text': 'Clear', 'icon': '//cdn.weatherapi.com/weather/64x64/night/113.png', 'code': 1000}, 'wind_mph': 4.7, 'wind_kph': 7.6, 'wind_degree': 259, 'wind_dir': 'W', 'pressure_mb': 1026.0, 'pressure_in': 30.29, 'precip_mm': 0.0, 'precip_in': 0.0, 'humidity': 86, 'cloud': 0, 'feelslike_c': 7.1, 'feelslike_f': 44.8, 'windchill_c': 10.4, 'windchill_f': 50.7, 'heatindex_c': 10.8, 'heatindex_f': 51.4, 'dewpoint_c': 7.6, 'dewpoint_f': 45.6, 'vis_km': 16.0, 'vis_miles': 9.0, 'uv': 0.0, 'gust_mph': 7.2, 'gust_kph': 11.7}}\"}, {'url': 'https://world-weather.info/forecast/usa/san_francisco/december-2024/', 'content': 'Detailed ⚡ San Francisco Weather Forecast for December 2024 - day/night 🌡️ temperatures, precipitations - World-Weather.info ... Add the current city. Search. Weather; Archive; Widgets °F. World; United States; California; Weather in San Francisco; Weather in San Francisco in December 2024. ... 15 +55° +48° 16 +57° +46° 17'}, {'url': 'https://www.weather25.com/north-america/usa/california/san-francisco?page=month&month=December', 'content': 'San Francisco weather in December 2024 | Weather25.com San Francisco weather in December 2024 | San Francisco in December | Temperatures in San Francisco in December Weather in San Francisco in December - FAQ The average temperature in San Francisco in December is 8/14° C. On average, there are 4 rainy days in San Francisco during December. Weather wise, is December a good time to visit San Francisco? The weather in San Francisco in December is good. On average, there are 0 snowy days in San Francisco in December. More about the weather in San Francisco San Francisco 14 day weather Long range weather for San Francisco San Francisco weather in November San Francisco Webcam Weather tomorrow Hotels in San Francisco'}, {'url': 'https://world-weather.info/forecast/usa/san_francisco/15-december/', 'content': 'Weather in San Francisco Weather in San Francisco, December 15 Weather Forecast for December 15 in San Francisco, California - temperature, wind, atmospheric pressure, humidity and precipitations. Night   +46°    +46°    30.2    4   94% Day +55°    +55°    30.2    6.7 70% Meteorological sensitivity index    3   Meteosensitive people are likely to experience weather-related symptoms. Geomagnetic conditions  2   Solar activity may affect some sensitive people. Day +59°    +59°    30.1    2.7 55% Meteorological sensitivity index    1   Weather situation is generally favorable to meteosensitive people. Geomagnetic conditions  1   Weak solar activity may affect some highly sensitive people. Day +52°    +52°    30.1    4.5 64% Meteorological sensitivity index    1   Weather situation is generally favorable to meteosensitive people. Geomagnetic conditions  1   Weak solar activity may affect some highly sensitive people.'}, {'url': 'https://weathershogun.com/weather/usa/ca/san-francisco/480/december', 'content': 'December 2024 Weather in San Francisco, CA San Francisco, CA Today Hourly 7 days 30 days December December 2024 Weather | San Francisco, California Today 12/12 Day 57° Night 52° 100Fri 12/13 Day 61° Night 54° 55Sat 12/14 Day 59° Night 45° 100Sun 12/15 Day 57° Night 45° 0Mon 12/16 Day 57° Night 46° 83Tue 12/17 Day 61° Night 48° 21Wed 12/18 Day 59° Night 46° 0Thu 12/19 Day 59° Night 46° 0Fri 12/20 Day 61° Night 52° 0Sat 12/21 Day 61° Night 52° 78Sun 12/22 Day 61° Night 52° 5Mon 12/23 Day 63° Night 50° 1Tue 12/24 Day 61° Night 52° 0Wed 12/25 Day 57° Night 46° 20Thu 12/26 Day 54° Night 45° 25Fri 12/27 Day 55° Night 45° 25Sat 12/28 Day 57° Night 48° 25Sun 12/29 Day 59° Night 50° 25Mon 12/30 Day 59° Night 50° 25Tue 12/31 Day 57° Night 48° 25 Today 7 days 30 days'}]\u001b[0m\u001b[32;1m\u001b[1;3mThe weather in San Francisco today is 8.3°C and clear.  The wind is 4.7mph from the west.  It feels like 7.1°C. \n",
      "\u001b[0m\n",
      "\n",
      "\u001b[1m> Finished chain.\u001b[0m\n"
     ]
    },
    {
     "data": {
      "text/plain": [
       "{'input': 'whats the weather in sf?',\n",
       " 'output': 'The weather in San Francisco today is 8.3°C and clear.  The wind is 4.7mph from the west.  It feels like 7.1°C. \\n'}"
      ]
     },
     "execution_count": 102,
     "metadata": {},
     "output_type": "execute_result"
    }
   ],
   "source": [
    "agent_executor.invoke({\"input\": \"whats the weather in sf?\"})"
   ]
  },
  {
   "cell_type": "markdown",
   "metadata": {},
   "source": [
    "#Add memory component"
   ]
  },
  {
   "cell_type": "markdown",
   "metadata": {},
   "source": []
  },
  {
   "cell_type": "code",
   "execution_count": 103,
   "metadata": {},
   "outputs": [],
   "source": [
    "\n",
    "from langchain_community.chat_message_histories import ChatMessageHistory\n",
    "from langchain_core.runnables.history import RunnableWithMessageHistory"
   ]
  },
  {
   "cell_type": "code",
   "execution_count": 104,
   "metadata": {},
   "outputs": [],
   "source": [
    "\n",
    "message_history=ChatMessageHistory()"
   ]
  },
  {
   "cell_type": "code",
   "execution_count": 105,
   "metadata": {},
   "outputs": [],
   "source": [
    "\n",
    "agent_with_chat_history = RunnableWithMessageHistory(\n",
    "    agent_executor,\n",
    "    # This is needed because in most real world scenarios, a session id is needed\n",
    "    # It isn't really used here because we are using a simple in memory ChatMessageHistory\n",
    "    lambda session_id: message_history,\n",
    "    input_messages_key=\"input\",\n",
    "    history_messages_key=\"chat_history\",\n",
    ")"
   ]
  },
  {
   "cell_type": "code",
   "execution_count": 106,
   "metadata": {},
   "outputs": [
    {
     "name": "stdout",
     "output_type": "stream",
     "text": [
      "\n",
      "\n",
      "\u001b[1m> Entering new AgentExecutor chain...\u001b[0m\n"
     ]
    },
    {
     "name": "stdout",
     "output_type": "stream",
     "text": [
      "\u001b[32;1m\u001b[1;3m\n",
      "Invoking: `tavily_search_results_json` with `{'query': 'How are you?'}`\n",
      "\n",
      "\n",
      "\u001b[0m\u001b[36;1m\u001b[1;3m[{'url': 'https://cleverreplies.com/other-ways-to-ask-how-are-you/', 'content': '25 New Ways to Ask ‘How Are You?’ (2024) ‘How Are You?’ – 25 Casual, formal & funny Ways to Ask | Clever Replies ‘How Are You?’ – 25 Casual, formal & funny Ways to Ask | Clever Replies Casual Ways to Ask ‘How Are You?’ Formal Ways to Ask ‘How Are You?’ Funny Ways to Ask ‘How Are You?’ This is also an example of a light-hearted way to ask ‘how someone is doing’ or ‘what’s going on.’ For example, In Casual conversations questions like ‘What’s new with you?’ are suitable as they are more friendly, but for more formal inquiries you cannot obviously go with ‘What’s new’ – here you can use something like ‘How have you been?’'}, {'url': 'https://eslspeaking.org/ways-to-answer-how-are-you/', 'content': 'Different Ways to Answer How Are You\\nCreative Ways to Answer How Are You\\nThe following are more creative reply to the question “how are you?”\\nFAQs About How Are You Replies\\nHere are some of the most frequently asked questions about how to answer “how are you?” qusetion.\\n Following are some good ways to reply nicely to “how are you?”\\nDaily English Resources\\nIf you are looking for more English speaking resources like this one, check out the following topics.\\nWays to Answer How Are You: Join the Conversation\\nHow do you usually reply when someone says “how are you?” The Most Common 4 Letter Words from A to Z\\nAnimal Names: Animals that Start with the Letter E\\nDifferent Ways to Say Good Night in English\\nThe Most Common 5 Letter Words from A to Z\\nJackie Bolen has been talking ESL speaking since 2014 and the goal is to bring you the best recommendations for English conversation games, activities, lesson plans and more. Following are some flirty responses to “How are you?”:\\nIs it polite to say how are you?\\nYes, asking “how are you” is considered polite and a common social nicety. in ESL Speaking Resources· Learn English\\nDifferent Ways to Answer the Question “How Are You?”\\nThe most commonly asked question in English is probably “How are you?”'}, {'url': 'https://7esl.com/how-are-you/', 'content': '7ESL » Expressions » Phrases » 40 Other Ways to Ask “How Are You” in English\\n40 Other Ways to Ask “How Are You” in English\\nThe way that you ask someone “how are you?” may vary depending on who is being asked and in what setting the conversation is taking place. Related links:\\n21 thoughts on “40 Other Ways to Ask “How Are You” in English”\\nComment navigation\\nWhat’s new\\nI like lessons\\nThank you\\nGood\\nTHANKS ALOT! How’s it rolling?\\nComment navigation\\nLeave a Comment Cancel reply\\nComment\\nΔ\\nFree Courses\\nLevel Tests\\nCompany\\nFollow Us The list below shows different ways to ask “How Are You” in English that you can use in your daily English conversations.\\n Idiomatic Ways to Ask “How Are You?”\\nThese are playful, casual ways to find out how your buddy or pal is doing.'}, {'url': 'https://eslforums.com/how-are-you/', 'content': 'However, you can also use the question as a simple greeting and move on to a different topic of conversation.\\nWays to Ask “How are you?”\\nTo ask “how are you?”, you can use any of the phrases I provided in my previous responses. How Are You\\nWays to Respond to “How are you?”\\nTo answer the question, you can use any of the phrases I provided as well. Table of Contents\\n“How are you?”\\nHow to Use “How are you?”?\\n or “I’ve been feeling a bit down, but I’m trying to focus on the good things in my life.”\\nResponding to “How are you?” In this lesson, you will learn a list of 16 sentences you can use instead of “How are you?” in English and how to respond to it.'}, {'url': 'https://www.grammarly.com/blog/writing-tips/how-are-you/', 'content': \"9 Ways to Ask “How Are You?” with Examples | Grammarly AI Writing Tools Grammar Checker AI Writing Tools Grammar Checker Writing How To's Business Writing Writing With AI Writing How To's Business Writing Writing With AI Write with Grammarly Conversely, if you’re emailing or messaging your manager who just got back from parental leave, something slightly more formal and targeted might make more sense, like “How are you doing with the new baby?” That way you show interest in their major life event while keeping things professional. And, more than likely, the person will be happy to start a conversation about their work or opinions once you’ve expressed interest. Get Grammarly Grammarly for Teams & Businesses Grammarly for Education Grammar Checker AI Writing Tools\"}]\u001b[0m\u001b[32;1m\u001b[1;3m\n",
      "Invoking: `tavily_search_results_json` with `{'query': \"What's new with you?\"}`\n",
      "\n",
      "\n",
      "\u001b[0m\u001b[36;1m\u001b[1;3m[{'url': 'https://fluentenglishjourney.com/how-to-reply-whats-new/', 'content': 'To reply to “What’s new?” Simply provide a brief description of the latest updates or news within a maximum of two sentences. Connection and Engagement: “What’s new?” Is a conversation-starter that enables us to connect and engage with others. When asked “What’s new,” respond with something like “Just living the dream, one day at a time!” Or “Same old, same old – just trying to stay out of trouble!” These light-hearted replies can spark a fun conversation. Here are 10 polite responses to “What’s new?”: Here are some friendly and engaging ways to reply when someone asks you, “What’s New? Politely reciprocate the question by asking, “What’s new with you?” To continue the conversation and show that you value their updates as well.'}, {'url': 'https://betterresponses.com/how-to-reply-to-whats-new-with-you/', 'content': 'So, you need to have some creative or funny answers ready for \\'What\\'s new with you?\\' question that comes to you in person or over text. 1. \"You notice there is something new. So, you can better tell me what it is.\" This one is a clever reply you can give to someone you met after a long time.'}, {'url': 'https://expressow.com/i/how-to-respond-to-whats-new-with-you-in-a-casual-conversation/', 'content': \"When someone asks What's new with you? in a casual conversation, it's an opportunity to connect, share, and build relationships. However, it can be daunting to respond, especially if you're not sure what to say or feel like you're not doing anything exciting.\"}, {'url': 'https://charmreply.in/ways-to-answer-whats-new-with-you/', 'content': 'Imagine you\\'re at a family gathering, and someone casually asks, \"What\\'s new with you?\" You begin to answer, but soon realize you don\\'t have anything new or important to add. It\\'s that awkward moment when you want to sound interesting, but your life feels pretty routine.'}, {'url': \"https://idioms.thefreedictionary.com/what's+new+with+you\", 'content': \"A standard, casual greeting to someone used to politely (and sometimes superficially) inquire about what is happening in their life. Hey Tom, what's new with you? It's nice to see you again, Brenda. What's new with you these days? Farlex Dictionary of Idioms. © 2024 Farlex, Inc, all rights reserved.\"}]\u001b[0m\u001b[32;1m\u001b[1;3m\n",
      "Invoking: `tavily_search_results_json` with `{'query': \"What's new with me?  I'm a helpful assistant. I can access and process information from the real world through Google Search and keep my response consistent with search results. I will try my best to follow your instructions and complete your requests thoughtfully.\"}`\n",
      "\n",
      "\n",
      "\u001b[0m\u001b[36;1m\u001b[1;3m[{'url': 'https://blog.google/products/assistant/google-assistant-bard-generative-ai/', 'content': 'We’re building Assistant with Bard to be a more personalized helper that’s integrated with some of the Google services you already use, like Gmail and Docs — making it even easier to stay on top of the most important things in your life.1\\nOn Android devices, we’re working to build a more contextually helpful experience right on your phone. Google Assistant\\nAssistant with Bard: A step toward a more personal assistant\\nOct 04, 2023\\nmin read\\nAssistant with Bard combines Assistant’s capabilities with generative AI to help you stay on top of what’s most important, right from your phone.\\n We think your digital assistant should make it even easier to manage the big and small items on your to-do list — like planning your next trip, finding details buried in your inbox, creating a grocery list for your weekend getaway or sending a text. Over the last seven years, Google Assistant has helped hundreds of millions of people get things done in a natural, conversational way — setting alarms, asking for weather updates or making quick calls — all with a simple “Hey Google.”\\n And just like both Bard and Assistant, it’ll be built with your privacy in mind — ensuring that you can choose your individual privacy settings.\\n'}, {'url': 'https://assistant.google.com/', 'content': 'Get Google Assistant Get Google Assistant ![Image 1: Display of various Google Nest smart home devices including, Nest doorbell, Nest Wifi, Nest Cam, Nest Thermostat, Chromecast with Google TV, Nest Audio, and Nest Hub.](https://lh3.googleusercontent.com/cn4c6JPx9hm2cHMaYFEHJCH1wjr1RCtZXKUSvYZvC0582_gNXl6cp_6BNg5OUPnwBKf13h1IC-oryanFM-pmJBpcCHTyJrSQIy3_dV-6DrmQsmn2TSrc=w1000-e365) ![Image 5: Make Google text it.](https://lh3.googleusercontent.com/ycj_5OK0UXHES7haZT4EQTyGTsqWnA0PoL4cA55djh6a6UIWvidIBpN5sXySGXNmIoMJTN4zwxC3GLmM0RYssn88NljHh2ioQjTsugQFW6L3a-86acnd=w1000-e365) ![Image 7: Google Home speaker with voice Assistant](https://lh3.googleusercontent.com/V3Qnc3FA3TVTwvkrxCA7p9IQhK7-JU3_GaCfE3Aw-hZrJtwGzVacMKcgff2L258n7QcCyfGZemz0hXvc4p6e1DvWWPLGHT4oc46jIQzH93XWmbU6nyY=w1000-e365) ![Image 8: Make Google play it.](https://lh3.googleusercontent.com/hxiQnRlIwDXrDgx6dmlVEGpbxIplzS_UFTQIQ8YXe9bN1liJC432onmaAWmTycHfdGHtWbm95D78WXTzBNVHojdYsJGyMgFEmqIdrRVxJ9JFpIvywgWm=w1000-e365) ![Image 11: Make Google dim it.](https://lh3.googleusercontent.com/jQ8NUKXnqB2Itf7CekEJbd7y8_KFVyO728RzUmpTQf0hgH_xGjDiN-7rLIEo8QT-1KjmPg51qNuNbDdfm5iv-t8qsYdJNEPiAw6JExOmQe53r4OVEVjy=w1000-e365) ![Image 12: An image of a woman lying on a red couch at home and a Nest Learning Thermostat](https://lh3.googleusercontent.com/BhOcJvg5tL9TQ0LwQjtML883L_9shsWwY5Yjj7fDhHjbrrAEiYP67waXKf-QwXRk81FKo2Gvzs8DMQ0ykwgfwDX41X0DaYoUMHCEYfoah2sL712RCAvM=w1000-e365) ![Image 13: Nest Learning Thermostat](https://lh3.googleusercontent.com/nUkJMv1c_9yq5JgR1XSozNWjnrphasYclg60POOl0EsCOVlzDIwzMR1rgqIqZjKOT_AynkcOKuu79NRkl2wRinBkeHbAKHZK1vHe_e8yWIYhJgxOOw=w1000-e365) ![Image 14: Make Google adjust it](https://lh3.googleusercontent.com/OX0iCUPv9vOgHaL66SG8l8dA6q-8v30pkeYUyVGNRbhGzgcnmfydOdE7-1WKy1K2t4hlteqrHtAiT-uOsFDyUPMJovFYYjJWwShGV8BIj8OEtVdS9Q=w1000-e365) Discover what Google Assistant\\xa0is Learn more about how you can get help from your Google Assistant. check news on\\xa0Twitter” Snap “... About Google'}, {'url': 'https://blog.google/products/gemini/made-by-google-gemini-ai-updates/', 'content': \"With Gemini, we're reimagining what it means for a personal assistant to be truly helpful. Gemini is evolving to provide AI-powered mobile assistance that will offer a new level of help — all while being more natural, conversational and intuitive. Learn more about the new Gemini features, which will be available on both Android and iOS.\"}, {'url': 'https://support.google.com/assistant/?hl=en', 'content': 'Google Assistant Help Google Assistant Help Google Assistant Get the Google Assistant at home Get Google Assistant in your car Get started with the Google Assistant on Pixel Change Google Assistant settings Use multiple accounts at once on your Google Assistant devices Set up parental controls on Google Assistant devices Fix Google Assistant screenshot settings Get manufacturer help for your Google Assistant device Submit feedback about your Google Assistant Fix issues with Google Assistant on headphones How to get Google Assistant to take action Changes we’re making to Google Assistant Choose what to share with your Google Assistant How Google Assistant protects your privacy How Google Assistant is designed for your privacy Google Help * Help Center* Community* Google Assistant'}, {'url': 'https://blog.google/products/assistant/google-assistants-new-updates-make-it-easier-than-ever-to-get-things-done-across-devices/', 'content': 'At a Glance shows you timely precipitation alerts\\nAt a Glance gives you a video feed preview from your Nest doorbell\\nAt a Glance shows you the baggage claim carousel for your flight\\nExperience the best of Google Assistant on your new Pixel devices\\nWith Assistant, you can use your voice in new and exciting ways on the sleek, new Pixel Watch. Assistant voice typing with emoji suggestions and search\\nDiscover more delightful calling and messaging experiences powered by Assistant\\nAt Made by Google, we shared some ways Google is creating a more delightful calling and texting experience on Android-powered devices and how Assistant’s speech models are helping to make it even easier to communicate:\\nLaunched last year on Pixel 6, quick phrases give you hands-free help on specific tasks, without needing to say “Hey Google.” Google Assistant\\nGoogle Assistant’s new updates make it easier than ever to get things done across devices\\nOct 06, 2022\\nmin read\\nWhen we launched Google Assistant six years ago, we envisioned a world in which you could control lights and thermostats with your voice, naturally communicate with your devices in multiple languages, and simplify your daily tasks with voice controls and proactive reminders. Use your voice to get things done faster and more easily\\nSend messages faster with Assistant voice typing\\nWith Assistant voice typing, you can easily talk to Google to type, edit and send messages on average 2.5x faster than typing on the keyboard, and now in more languages – Spanish, Italian and French. Direct My Call shows you call menu options right away before they were spoken\\nBringing proactive intelligence directly to your screen\\nAt a Glance on Pixel helps get what you need, when you need it – before you have to ask – right on your home or lock screen.'}]\u001b[0m\u001b[32;1m\u001b[1;3m\u001b[0m\n",
      "\n",
      "\u001b[1m> Finished chain.\u001b[0m\n"
     ]
    },
    {
     "data": {
      "text/plain": [
       "{'input': 'hi! my name is sunny how are you?',\n",
       " 'chat_history': [],\n",
       " 'output': ''}"
      ]
     },
     "execution_count": 106,
     "metadata": {},
     "output_type": "execute_result"
    }
   ],
   "source": [
    "\n",
    "agent_with_chat_history.invoke(\n",
    "    {\"input\": \"hi! my name is sunny how are you?\"},\n",
    "    # This is needed because in most real world scenarios, a session id is needed\n",
    "    # It isn't really used here because we are using a simple in memory ChatMessageHistory\n",
    "    config={\"configurable\": {\"session_id\": \"firstchat\"}},\n",
    ")"
   ]
  },
  {
   "cell_type": "code",
   "execution_count": 107,
   "metadata": {},
   "outputs": [],
   "source": [
    "\n",
    "from langchain.utilities import GoogleSerperAPIWrapper\n",
    "from langchain.agents import Tool\n",
    "from langchain_core.prompts import PromptTemplate\n",
    "from langchain.agents import AgentExecutor, create_react_agent"
   ]
  },
  {
   "cell_type": "markdown",
   "metadata": {},
   "source": [
    "###ReAct Agent (Reasoning + Acting):\n",
    "Definition:\n",
    "\n",
    "The ReAct framework combines reasoning and acting in a single loop to handle tasks. The agent uses natural language reasoning (thinking through steps) and task actions (performing tasks like calculations or data retrieval).\n",
    "\n",
    "The agent uses a combination of reasoning steps to guide actions in real-time, using feedback from those actions to further inform the next step in reasoning.\n",
    "\n",
    "###How it works:\n",
    "\n",
    "Step 1: The agent receives a question or task.\n",
    "Step 2: It reasons aloud (in natural language) about how to solve it.\n",
    "Step 3: Based on its reasoning, it takes actions (e.g., searching a database, calculating something).\n",
    "Step 4: The results of these actions are integrated into its reasoning and may trigger further actions.\n",
    "Step 5: It repeats the process until it arrives at a solution.\n",
    "Key points:\n",
    "\n",
    "Combines thinking and doing (reasoning and actions).\n",
    "Performs iterative steps, updating its process based on action results.\n",
    "Typically handles complex decision-making scenarios.\n",
    "Example:\n",
    "\n",
    "Original task: “Calculate the total number of apples in a basket if there are 4 baskets and 7 apples in each.”\n",
    "Reasoning: \"I need to multiply 4 by 7 to get the total number of apples.\"\n",
    "Action: Perform the multiplication.\n",
    "Result: \"There are 28 apples.\"\n",
    "Reasoning: \"I am done.\""
   ]
  },
  {
   "cell_type": "code",
   "execution_count": 108,
   "metadata": {},
   "outputs": [],
   "source": [
    "\n",
    "google_search = GoogleSerperAPIWrapper()\n",
    "tools = [\n",
    "    Tool(\n",
    "        name=\"Intermediate Answer\",\n",
    "        func=google_search.run,\n",
    "        description=\"useful for when you need to ask with search\",\n",
    "        verbose=True\n",
    "    )\n",
    "]"
   ]
  },
  {
   "cell_type": "code",
   "execution_count": 109,
   "metadata": {},
   "outputs": [],
   "source": [
    "from langchain.utilities import GoogleSerperAPIWrapper\n",
    "from langchain.agents import Tool\n",
    "from langchain_core.prompts import PromptTemplate\n",
    "from langchain.agents import AgentExecutor, create_react_agent"
   ]
  },
  {
   "cell_type": "code",
   "execution_count": 110,
   "metadata": {},
   "outputs": [],
   "source": [
    "\n",
    "google_search = GoogleSerperAPIWrapper()\n",
    "tools = [\n",
    "    Tool(\n",
    "        name=\"Intermediate Answer\",\n",
    "        func=google_search.run,\n",
    "        description=\"useful for when you need to ask with search\",\n",
    "        verbose=True\n",
    "    )\n",
    "]"
   ]
  },
  {
   "cell_type": "code",
   "execution_count": 111,
   "metadata": {},
   "outputs": [],
   "source": [
    "\n",
    "template = '''Answer the following questions as best you can. You have access to the following tools:\n",
    "{tools}\n",
    "Use the following format:\n",
    "Question: the input question you must answer\n",
    "Thought: you should always think about what to do\n",
    "Action: the action to take, should be one of [{tool_names}]\n",
    "Action Input: the input to the action\n",
    "Observation: the result of the action\n",
    "... (this Thought/Action/Action Input/Observation can repeat N times)\n",
    "Thought: I now know the final answer\n",
    "Final Answer: the final answer to the original input question\n",
    "Begin!\n",
    "Question: {input}\n",
    "Thought:{agent_scratchpad}'''"
   ]
  },
  {
   "cell_type": "code",
   "execution_count": 112,
   "metadata": {},
   "outputs": [],
   "source": [
    "\n",
    "prompt = PromptTemplate.from_template(template)"
   ]
  },
  {
   "cell_type": "code",
   "execution_count": 113,
   "metadata": {},
   "outputs": [],
   "source": [
    "\n",
    "search_agent = create_react_agent(llm,tools,prompt)"
   ]
  },
  {
   "cell_type": "code",
   "execution_count": 114,
   "metadata": {},
   "outputs": [],
   "source": [
    "\n",
    "agent_executor = AgentExecutor(\n",
    "    agent=search_agent,\n",
    "    tools=tools,\n",
    "    verbose=True,\n",
    "    return_intermediate_steps=True,\n",
    ")"
   ]
  },
  {
   "cell_type": "code",
   "execution_count": 115,
   "metadata": {},
   "outputs": [
    {
     "name": "stdout",
     "output_type": "stream",
     "text": [
      "\n",
      "\n",
      "\u001b[1m> Entering new AgentExecutor chain...\u001b[0m\n",
      "\u001b[32;1m\u001b[1;3mThought: I need to find out who won the 2007 US PGA Championship.\n",
      "Action: Intermediate Answer\n",
      "Action Input: 2007 US PGA Championship winner\u001b[0m\u001b[36;1m\u001b[1;3mThe 2007 PGA Championship was the 89th PGA Championship, played August 9–12 at Southern Hills Country Club in Tulsa, Oklahoma. Defending champion Tiger Woods won his fourth PGA Championship and 13th major title, two strokes ahead of runner-up Woody Austin.\u001b[0m\u001b[32;1m\u001b[1;3mThought: I know who won and need to find his hometown.\n",
      "Action: Intermediate Answer\n",
      "Action Input: Tiger Woods hometown\u001b[0m\u001b[36;1m\u001b[1;3mWoods was born on December 30, 1975, in Cypress, California, to Earl and Kultida \"Tida\" Woods. He is their only child, though he has two half-brothers and a half-sister from his father's first marriage. Earl was a retired U.S. Army officer and Vietnam War veteran.\u001b[0m\u001b[32;1m\u001b[1;3mThought: I know the winner's hometown and his score.\n",
      "Final Answer: Tiger Woods, who is from Cypress, California, won the 2007 US PGA Championship with a score of -11.  \n",
      "\n",
      "\n",
      "\u001b[0m\n",
      "\n",
      "\u001b[1m> Finished chain.\u001b[0m\n"
     ]
    },
    {
     "data": {
      "text/plain": [
       "{'input': 'Where is the hometown of the 2007 US PGA championship winner and his score?',\n",
       " 'output': 'Tiger Woods, who is from Cypress, California, won the 2007 US PGA Championship with a score of -11.',\n",
       " 'intermediate_steps': [(AgentAction(tool='Intermediate Answer', tool_input='2007 US PGA Championship winner', log='Thought: I need to find out who won the 2007 US PGA Championship.\\nAction: Intermediate Answer\\nAction Input: 2007 US PGA Championship winner'),\n",
       "   'The 2007 PGA Championship was the 89th PGA Championship, played August 9–12 at Southern Hills Country Club in Tulsa, Oklahoma. Defending champion Tiger Woods won his fourth PGA Championship and 13th major title, two strokes ahead of runner-up Woody Austin.'),\n",
       "  (AgentAction(tool='Intermediate Answer', tool_input='Tiger Woods hometown', log='Thought: I know who won and need to find his hometown.\\nAction: Intermediate Answer\\nAction Input: Tiger Woods hometown'),\n",
       "   'Woods was born on December 30, 1975, in Cypress, California, to Earl and Kultida \"Tida\" Woods. He is their only child, though he has two half-brothers and a half-sister from his father\\'s first marriage. Earl was a retired U.S. Army officer and Vietnam War veteran.')]}"
      ]
     },
     "execution_count": 115,
     "metadata": {},
     "output_type": "execute_result"
    }
   ],
   "source": [
    "agent_executor.invoke({\"input\": \"Where is the hometown of the 2007 US PGA championship winner and his score?\"})\n"
   ]
  },
  {
   "cell_type": "markdown",
   "metadata": {},
   "source": [
    "#ReAct Agent with Custom tools"
   ]
  },
  {
   "cell_type": "code",
   "execution_count": 116,
   "metadata": {},
   "outputs": [],
   "source": [
    "from langchain.tools import tool\n",
    "from langchain import hub\n",
    "from langchain.agents import AgentExecutor, create_react_agent"
   ]
  },
  {
   "cell_type": "code",
   "execution_count": 117,
   "metadata": {},
   "outputs": [],
   "source": [
    "# Custom tool for the Agent \n",
    "@tool\n",
    "def get_employee_id(name):\n",
    "  \"\"\"\n",
    "  To get employee id, it takes employee name as arguments\n",
    "  name(str): Name of the employee\n",
    "  \"\"\"\n",
    "  fake_employees = {\n",
    "    \"Alice\": \"E001\",\n",
    "    \"Bob\": \"E002\",\n",
    "    \"Charlie\": \"E003\",\n",
    "    \"Diana\": \"E004\",\n",
    "    \"Evan\": \"E005\",\n",
    "    \"Fiona\": \"E006\",\n",
    "    \"George\": \"E007\",\n",
    "    \"Hannah\": \"E008\",\n",
    "    \"Ian\": \"E009\",\n",
    "    \"Jasmine\": \"E010\"}\n",
    "  \n",
    "  return fake_employees.get(name,\"Employee not found\")"
   ]
  },
  {
   "cell_type": "code",
   "execution_count": 118,
   "metadata": {},
   "outputs": [],
   "source": [
    "# Custom tool for the Agent \n",
    "@tool\n",
    "def get_employee_salary(employee_id):\n",
    "  \"\"\"\n",
    "  To get the salary of an employee, it takes employee_id as input and return salary\n",
    "  \"\"\"\n",
    "  employee_salaries = {\n",
    "    \"E001\": 56000,\n",
    "    \"E002\": 47000,\n",
    "    \"E003\": 52000,\n",
    "    \"E004\": 61000,\n",
    "    \"E005\": 45000,\n",
    "    \"E006\": 58000,\n",
    "    \"E007\": 49000,\n",
    "    \"E008\": 53000,\n",
    "    \"E009\": 50000,\n",
    "    \"E010\": 55000\n",
    "    }\n",
    "  return employee_salaries.get(employee_id,\"Employee not found\")"
   ]
  },
  {
   "cell_type": "code",
   "execution_count": 119,
   "metadata": {},
   "outputs": [],
   "source": [
    "# Saved React Prompt in langchain hub, we could manually type the prompt as well.\n",
    "prompt = hub.pull(\"hwchase17/react\")"
   ]
  },
  {
   "cell_type": "code",
   "execution_count": 120,
   "metadata": {},
   "outputs": [
    {
     "name": "stdout",
     "output_type": "stream",
     "text": [
      "Answer the following questions as best you can. You have access to the following tools:\n",
      "\n",
      "{tools}\n",
      "\n",
      "Use the following format:\n",
      "\n",
      "Question: the input question you must answer\n",
      "Thought: you should always think about what to do\n",
      "Action: the action to take, should be one of [{tool_names}]\n",
      "Action Input: the input to the action\n",
      "Observation: the result of the action\n",
      "... (this Thought/Action/Action Input/Observation can repeat N times)\n",
      "Thought: I now know the final answer\n",
      "Final Answer: the final answer to the original input question\n",
      "\n",
      "Begin!\n",
      "\n",
      "Question: {input}\n",
      "Thought:{agent_scratchpad}\n"
     ]
    }
   ],
   "source": [
    "\n",
    "print(prompt.template)"
   ]
  },
  {
   "cell_type": "code",
   "execution_count": 121,
   "metadata": {},
   "outputs": [],
   "source": [
    "\n",
    "tools = [get_employee_salary, get_employee_id]"
   ]
  },
  {
   "cell_type": "code",
   "execution_count": 122,
   "metadata": {},
   "outputs": [],
   "source": [
    "agent = create_react_agent(llm,tools,prompt)"
   ]
  },
  {
   "cell_type": "code",
   "execution_count": 123,
   "metadata": {},
   "outputs": [],
   "source": [
    "agent_executor = AgentExecutor(agent=agent,tools=tools,verbose=True)"
   ]
  },
  {
   "cell_type": "code",
   "execution_count": 124,
   "metadata": {},
   "outputs": [
    {
     "name": "stdout",
     "output_type": "stream",
     "text": [
      "\n",
      "\n",
      "\u001b[1m> Entering new AgentExecutor chain...\u001b[0m\n",
      "\u001b[32;1m\u001b[1;3mThought: I need to find Evan's employee ID first, then use that to get his salary.\n",
      "Action: get_employee_id\n",
      "Action Input: Evan\u001b[0m\u001b[33;1m\u001b[1;3mE005\u001b[0m\u001b[32;1m\u001b[1;3mThought: I can now use Evan's employee ID to get his salary.\n",
      "Action: get_employee_salary\n",
      "Action Input: E005\u001b[0m\u001b[36;1m\u001b[1;3m45000\u001b[0m\u001b[32;1m\u001b[1;3mThought: I now know the final answer\n",
      "Final Answer: 45000 \n",
      "\u001b[0m\n",
      "\n",
      "\u001b[1m> Finished chain.\u001b[0m\n"
     ]
    },
    {
     "data": {
      "text/plain": [
       "{'input': 'What is the Salary of Evan?', 'output': '45000'}"
      ]
     },
     "execution_count": 124,
     "metadata": {},
     "output_type": "execute_result"
    }
   ],
   "source": [
    "agent_executor.invoke({\"input\":\"What is the Salary of Evan?\"})"
   ]
  },
  {
   "cell_type": "markdown",
   "metadata": {},
   "source": [
    "#This given code from the latest version"
   ]
  },
  {
   "cell_type": "code",
   "execution_count": 127,
   "metadata": {},
   "outputs": [
    {
     "name": "stdout",
     "output_type": "stream",
     "text": [
      "{'agent': {'messages': [AIMessage(content='', additional_kwargs={'tool_calls': [{'id': 'call_fvj5', 'function': {'arguments': '{\"query\":\"what is the weather like in san francisco\"}', 'name': 'tavily_search_results_json'}, 'type': 'function'}]}, response_metadata={'token_usage': {'completion_tokens': 93, 'prompt_tokens': 990, 'total_tokens': 1083, 'completion_time': 0.169090909, 'prompt_time': 0.050156827, 'queue_time': 0.004160804999999997, 'total_time': 0.219247736}, 'model_name': 'Gemma2-9b-It', 'system_fingerprint': 'fp_10c08bf97d', 'finish_reason': 'tool_calls', 'logprobs': None}, id='run-af9391c2-ffd3-4f58-9ac7-7150f7c30f67-0', tool_calls=[{'name': 'tavily_search_results_json', 'args': {'query': 'what is the weather like in san francisco'}, 'id': 'call_fvj5', 'type': 'tool_call'}], usage_metadata={'input_tokens': 990, 'output_tokens': 93, 'total_tokens': 1083})]}}\n",
      "----\n",
      "{'tools': {'messages': [ToolMessage(content='[{\"url\": \"https://www.weatherapi.com/\", \"content\": \"{\\'location\\': {\\'name\\': \\'San Francisco\\', \\'region\\': \\'California\\', \\'country\\': \\'United States of America\\', \\'lat\\': 37.775, \\'lon\\': -122.4183, \\'tz_id\\': \\'America/Los_Angeles\\', \\'localtime_epoch\\': 1734248805, \\'localtime\\': \\'2024-12-14 23:46\\'}, \\'current\\': {\\'last_updated_epoch\\': 1734248700, \\'last_updated\\': \\'2024-12-14 23:45\\', \\'temp_c\\': 8.3, \\'temp_f\\': 46.9, \\'is_day\\': 0, \\'condition\\': {\\'text\\': \\'Clear\\', \\'icon\\': \\'//cdn.weatherapi.com/weather/64x64/night/113.png\\', \\'code\\': 1000}, \\'wind_mph\\': 4.7, \\'wind_kph\\': 7.6, \\'wind_degree\\': 259, \\'wind_dir\\': \\'W\\', \\'pressure_mb\\': 1026.0, \\'pressure_in\\': 30.29, \\'precip_mm\\': 0.0, \\'precip_in\\': 0.0, \\'humidity\\': 86, \\'cloud\\': 0, \\'feelslike_c\\': 7.1, \\'feelslike_f\\': 44.8, \\'windchill_c\\': 10.4, \\'windchill_f\\': 50.7, \\'heatindex_c\\': 10.8, \\'heatindex_f\\': 51.4, \\'dewpoint_c\\': 7.6, \\'dewpoint_f\\': 45.6, \\'vis_km\\': 16.0, \\'vis_miles\\': 9.0, \\'uv\\': 0.0, \\'gust_mph\\': 7.2, \\'gust_kph\\': 11.7}}\"}, {\"url\": \"https://forecast.weather.gov/MapClick.php?lat=37.7800771&lon=-122.4201615\", \"content\": \"Current conditions at SAN FRANCISCO DOWNTOWN (SFOC1) Lat: 37.77056°NLon: 122.42694°WElev: 150.0ft. NA. 52°F. 11°C. ... San Francisco CA 37.77°N 122.41°W (Elev. 131 ft) Last Update: 2:33 pm PST Dec 11, 2024. Forecast Valid: 12am PST Dec 12, 2024-6pm PST Dec 18, 2024 . Forecast Discussion . Additional Resources. Radar & Satellite Image\"}]', name='tavily_search_results_json', id='f9b3af51-03b5-4119-8710-fdded5e69ecf', tool_call_id='call_fvj5', artifact={'query': 'what is the weather like in san francisco', 'follow_up_questions': None, 'answer': None, 'images': [], 'results': [{'title': 'Weather in San Francisco', 'url': 'https://www.weatherapi.com/', 'content': \"{'location': {'name': 'San Francisco', 'region': 'California', 'country': 'United States of America', 'lat': 37.775, 'lon': -122.4183, 'tz_id': 'America/Los_Angeles', 'localtime_epoch': 1734248805, 'localtime': '2024-12-14 23:46'}, 'current': {'last_updated_epoch': 1734248700, 'last_updated': '2024-12-14 23:45', 'temp_c': 8.3, 'temp_f': 46.9, 'is_day': 0, 'condition': {'text': 'Clear', 'icon': '//cdn.weatherapi.com/weather/64x64/night/113.png', 'code': 1000}, 'wind_mph': 4.7, 'wind_kph': 7.6, 'wind_degree': 259, 'wind_dir': 'W', 'pressure_mb': 1026.0, 'pressure_in': 30.29, 'precip_mm': 0.0, 'precip_in': 0.0, 'humidity': 86, 'cloud': 0, 'feelslike_c': 7.1, 'feelslike_f': 44.8, 'windchill_c': 10.4, 'windchill_f': 50.7, 'heatindex_c': 10.8, 'heatindex_f': 51.4, 'dewpoint_c': 7.6, 'dewpoint_f': 45.6, 'vis_km': 16.0, 'vis_miles': 9.0, 'uv': 0.0, 'gust_mph': 7.2, 'gust_kph': 11.7}}\", 'score': 0.9943191, 'raw_content': None}, {'title': 'National Weather Service', 'url': 'https://forecast.weather.gov/MapClick.php?lat=37.7800771&lon=-122.4201615', 'content': 'Current conditions at SAN FRANCISCO DOWNTOWN (SFOC1) Lat: 37.77056°NLon: 122.42694°WElev: 150.0ft. NA. 52°F. 11°C. ... San Francisco CA 37.77°N 122.41°W (Elev. 131 ft) Last Update: 2:33 pm PST Dec 11, 2024. Forecast Valid: 12am PST Dec 12, 2024-6pm PST Dec 18, 2024 . Forecast Discussion . Additional Resources. Radar & Satellite Image', 'score': 0.98588216, 'raw_content': None}], 'response_time': 2.98})]}}\n",
      "----\n",
      "{'agent': {'messages': [AIMessage(content='The weather in San Francisco is currently 8.3°C and clear. \\n', additional_kwargs={}, response_metadata={'token_usage': {'completion_tokens': 20, 'prompt_tokens': 1760, 'total_tokens': 1780, 'completion_time': 0.036363636, 'prompt_time': 0.056355269, 'queue_time': 0.004329802000000001, 'total_time': 0.092718905}, 'model_name': 'Gemma2-9b-It', 'system_fingerprint': 'fp_10c08bf97d', 'finish_reason': 'stop', 'logprobs': None}, id='run-41e47cbc-7c59-460d-8a27-ac7ab037a748-0', usage_metadata={'input_tokens': 1760, 'output_tokens': 20, 'total_tokens': 1780})]}}\n",
      "----\n",
      "{'agent': {'messages': [AIMessage(content='', additional_kwargs={'tool_calls': [{'id': 'call_ea5v', 'function': {'arguments': '{\"query\":\"weather in sf\"}', 'name': 'tavily_search_results_json'}, 'type': 'function'}]}, response_metadata={'token_usage': {'completion_tokens': 51, 'prompt_tokens': 1795, 'total_tokens': 1846, 'completion_time': 0.092727273, 'prompt_time': 0.073846178, 'queue_time': 0.003958933999999997, 'total_time': 0.166573451}, 'model_name': 'Gemma2-9b-It', 'system_fingerprint': 'fp_10c08bf97d', 'finish_reason': 'tool_calls', 'logprobs': None}, id='run-128f49ae-1099-4d3b-8b49-5d62ed31989a-0', tool_calls=[{'name': 'tavily_search_results_json', 'args': {'query': 'weather in sf'}, 'id': 'call_ea5v', 'type': 'tool_call'}], usage_metadata={'input_tokens': 1795, 'output_tokens': 51, 'total_tokens': 1846})]}}\n",
      "----\n",
      "{'tools': {'messages': [ToolMessage(content='[{\"url\": \"https://www.weatherapi.com/\", \"content\": \"{\\'location\\': {\\'name\\': \\'San Francisco\\', \\'region\\': \\'California\\', \\'country\\': \\'United States of America\\', \\'lat\\': 37.775, \\'lon\\': -122.4183, \\'tz_id\\': \\'America/Los_Angeles\\', \\'localtime_epoch\\': 1734248805, \\'localtime\\': \\'2024-12-14 23:46\\'}, \\'current\\': {\\'last_updated_epoch\\': 1734248700, \\'last_updated\\': \\'2024-12-14 23:45\\', \\'temp_c\\': 8.3, \\'temp_f\\': 46.9, \\'is_day\\': 0, \\'condition\\': {\\'text\\': \\'Clear\\', \\'icon\\': \\'//cdn.weatherapi.com/weather/64x64/night/113.png\\', \\'code\\': 1000}, \\'wind_mph\\': 4.7, \\'wind_kph\\': 7.6, \\'wind_degree\\': 259, \\'wind_dir\\': \\'W\\', \\'pressure_mb\\': 1026.0, \\'pressure_in\\': 30.29, \\'precip_mm\\': 0.0, \\'precip_in\\': 0.0, \\'humidity\\': 86, \\'cloud\\': 0, \\'feelslike_c\\': 7.1, \\'feelslike_f\\': 44.8, \\'windchill_c\\': 10.4, \\'windchill_f\\': 50.7, \\'heatindex_c\\': 10.8, \\'heatindex_f\\': 51.4, \\'dewpoint_c\\': 7.6, \\'dewpoint_f\\': 45.6, \\'vis_km\\': 16.0, \\'vis_miles\\': 9.0, \\'uv\\': 0.0, \\'gust_mph\\': 7.2, \\'gust_kph\\': 11.7}}\"}, {\"url\": \"https://world-weather.info/forecast/usa/san_francisco/december-2024/\", \"content\": \"Detailed ⚡ San Francisco Weather Forecast for December 2024 - day/night 🌡️ temperatures, precipitations - World-Weather.info ... Add the current city. Search. Weather; Archive; Widgets °F. World; United States; California; Weather in San Francisco; Weather in San Francisco in December 2024. ... 15 +55° +48° 16 +57° +46° 17\"}]', name='tavily_search_results_json', id='d265ab99-b658-476e-b4c2-139e860f853b', tool_call_id='call_ea5v', artifact={'query': 'weather in sf', 'follow_up_questions': None, 'answer': None, 'images': [], 'results': [{'title': 'Weather in San Francisco', 'url': 'https://www.weatherapi.com/', 'content': \"{'location': {'name': 'San Francisco', 'region': 'California', 'country': 'United States of America', 'lat': 37.775, 'lon': -122.4183, 'tz_id': 'America/Los_Angeles', 'localtime_epoch': 1734248805, 'localtime': '2024-12-14 23:46'}, 'current': {'last_updated_epoch': 1734248700, 'last_updated': '2024-12-14 23:45', 'temp_c': 8.3, 'temp_f': 46.9, 'is_day': 0, 'condition': {'text': 'Clear', 'icon': '//cdn.weatherapi.com/weather/64x64/night/113.png', 'code': 1000}, 'wind_mph': 4.7, 'wind_kph': 7.6, 'wind_degree': 259, 'wind_dir': 'W', 'pressure_mb': 1026.0, 'pressure_in': 30.29, 'precip_mm': 0.0, 'precip_in': 0.0, 'humidity': 86, 'cloud': 0, 'feelslike_c': 7.1, 'feelslike_f': 44.8, 'windchill_c': 10.4, 'windchill_f': 50.7, 'heatindex_c': 10.8, 'heatindex_f': 51.4, 'dewpoint_c': 7.6, 'dewpoint_f': 45.6, 'vis_km': 16.0, 'vis_miles': 9.0, 'uv': 0.0, 'gust_mph': 7.2, 'gust_kph': 11.7}}\", 'score': 0.9995346, 'raw_content': None}, {'title': 'Weather in San Francisco in December 2024', 'url': 'https://world-weather.info/forecast/usa/san_francisco/december-2024/', 'content': 'Detailed ⚡ San Francisco Weather Forecast for December 2024 - day/night 🌡️ temperatures, precipitations - World-Weather.info ... Add the current city. Search. Weather; Archive; Widgets °F. World; United States; California; Weather in San Francisco; Weather in San Francisco in December 2024. ... 15 +55° +48° 16 +57° +46° 17', 'score': 0.9983834, 'raw_content': None}], 'response_time': 3.36})]}}\n",
      "----\n",
      "{'agent': {'messages': [AIMessage(content='The weather in San Francisco is currently 8.3°C and clear.  \\n', additional_kwargs={}, response_metadata={'token_usage': {'completion_tokens': 20, 'prompt_tokens': 2484, 'total_tokens': 2504, 'completion_time': 0.036363636, 'prompt_time': 0.080218631, 'queue_time': 0.004936778000000003, 'total_time': 0.116582267}, 'model_name': 'Gemma2-9b-It', 'system_fingerprint': 'fp_10c08bf97d', 'finish_reason': 'stop', 'logprobs': None}, id='run-947e8407-6437-485f-b96b-bf21f65f5aa6-0', usage_metadata={'input_tokens': 2484, 'output_tokens': 20, 'total_tokens': 2504})]}}\n",
      "----\n"
     ]
    }
   ],
   "source": [
    "\n",
    "# Import relevant functionality\n",
    "from langchain_community.tools.tavily_search import TavilySearchResults\n",
    "from langchain_core.messages import HumanMessage\n",
    "from langgraph.checkpoint.memory import MemorySaver\n",
    "from langgraph.prebuilt import create_react_agent\n",
    "\n",
    "# Create the agent\n",
    "memory = MemorySaver()\n",
    "search = TavilySearchResults(max_results=2)\n",
    "tools = [search]\n",
    "agent_executor = create_react_agent(llm, tools, checkpointer=memory)\n",
    "\n",
    "# Use the agent\n",
    "config = {\"configurable\": {\"thread_id\": \"abc123\"}}\n",
    "for chunk in agent_executor.stream(\n",
    "    {\"messages\": [HumanMessage(content=\"hi im bob! and i live in sf\")]}, config\n",
    "):\n",
    "    print(chunk)\n",
    "    print(\"----\")\n",
    "\n",
    "for chunk in agent_executor.stream(\n",
    "    {\"messages\": [HumanMessage(content=\"whats the weather where I live?\")]}, config\n",
    "):\n",
    "    print(chunk)\n",
    "    print(\"----\")"
   ]
  },
  {
   "cell_type": "markdown",
   "metadata": {},
   "source": [
    "Self-Ask with Search Agent:\n",
    "###Definition:\n",
    "\n",
    "This approach allows the AI to ask itself follow-up questions when it doesn't immediately know the answer. It performs a recursive questioning process to break down complex queries into smaller, more manageable ones.\n",
    "Once the AI generates these follow-up questions, it performs an external search (e.g., through Google or an internal database) to gather the necessary information before formulating a response.\n",
    "How it works:\n",
    "\n",
    "Step 1: Receive a complex question.\n",
    "Step 2: The agent identifies sub-questions or follow-up questions.\n",
    "Step 3: It performs a search or fetches answers to these questions from external resources (like a web search).\n",
    "Step 4: The answers are aggregated to provide a complete response.\n",
    "Key points:\n",
    "\n",
    "Emphasizes question decomposition.\n",
    "Relies on external search for sub-questions.\n",
    "Useful for answering open-ended or broad questions where the answer is not immediately available.\n",
    "Example:\n",
    "\n",
    "Original question: “How many moons does Jupiter have?”\n",
    "Sub-question: “What is Jupiter?” (search)\n",
    "Sub-question: “What are moons?” (search)\n",
    "Finally, it retrieves the answer: \"Jupiter has 79 moons.\""
   ]
  },
  {
   "cell_type": "code",
   "execution_count": null,
   "metadata": {},
   "outputs": [],
   "source": []
  }
 ],
 "metadata": {
  "kernelspec": {
   "display_name": "myenv",
   "language": "python",
   "name": "python3"
  },
  "language_info": {
   "codemirror_mode": {
    "name": "ipython",
    "version": 3
   },
   "file_extension": ".py",
   "mimetype": "text/x-python",
   "name": "python",
   "nbconvert_exporter": "python",
   "pygments_lexer": "ipython3",
   "version": "3.10.0"
  }
 },
 "nbformat": 4,
 "nbformat_minor": 2
}
