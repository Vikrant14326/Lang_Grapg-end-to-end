{
 "cells": [
  {
   "cell_type": "code",
   "execution_count": 1,
   "metadata": {},
   "outputs": [],
   "source": [
    "import os"
   ]
  },
  {
   "cell_type": "code",
   "execution_count": 2,
   "metadata": {},
   "outputs": [],
   "source": [
    "def function1(input1):\n",
    "    return input1 + \"from first function\"\n",
    "\n",
    "def function2(input2):\n",
    "    return input2 + \" and savita from second function\""
   ]
  },
  {
   "cell_type": "code",
   "execution_count": 3,
   "metadata": {},
   "outputs": [],
   "source": [
    "\n",
    "# show this later on\n",
    "def function3(input3):\n",
    "    return input3"
   ]
  },
  {
   "cell_type": "code",
   "execution_count": 4,
   "metadata": {},
   "outputs": [],
   "source": [
    "# show this later on\n",
    "def function1(input1):\n",
    "    return input1 + \"from first function\"\n",
    "\n",
    "def function2(input2):\n",
    "    output=function3(\"this is function 2 in between\")\n",
    "    return input2 + \" \" + output + \" and savita from second function\""
   ]
  },
  {
   "cell_type": "code",
   "execution_count": 5,
   "metadata": {},
   "outputs": [
    {
     "data": {
      "text/plain": [
       "'sunnyfrom first function'"
      ]
     },
     "execution_count": 5,
     "metadata": {},
     "output_type": "execute_result"
    }
   ],
   "source": [
    "\n",
    "function1(\"sunny\")"
   ]
  },
  {
   "cell_type": "code",
   "execution_count": 6,
   "metadata": {},
   "outputs": [
    {
     "data": {
      "text/plain": [
       "'savita this is function 2 in between and savita from second function'"
      ]
     },
     "execution_count": 6,
     "metadata": {},
     "output_type": "execute_result"
    }
   ],
   "source": [
    "\n",
    "function2(\"savita\")"
   ]
  },
  {
   "cell_type": "code",
   "execution_count": 7,
   "metadata": {},
   "outputs": [
    {
     "data": {
      "text/plain": [
       "'sunnyfrom first function savita this is function 2 in between and savita from second function'"
      ]
     },
     "execution_count": 7,
     "metadata": {},
     "output_type": "execute_result"
    }
   ],
   "source": [
    "function1(\"sunny\")+ \" \"+function2(\"savita\")"
   ]
  },
  {
   "cell_type": "code",
   "execution_count": 8,
   "metadata": {},
   "outputs": [],
   "source": [
    "from langgraph.graph import Graph"
   ]
  },
  {
   "cell_type": "code",
   "execution_count": 9,
   "metadata": {},
   "outputs": [],
   "source": [
    "\n",
    "#this is called a simple graph\n",
    "#we have one more type of graph that is called stategraph\n",
    "workflow1=Graph()"
   ]
  },
  {
   "cell_type": "code",
   "execution_count": 10,
   "metadata": {},
   "outputs": [
    {
     "data": {
      "text/plain": [
       "<langgraph.graph.graph.Graph at 0x2bb79faf020>"
      ]
     },
     "execution_count": 10,
     "metadata": {},
     "output_type": "execute_result"
    }
   ],
   "source": [
    "workflow1.add_node(\"function1\", function1)"
   ]
  },
  {
   "cell_type": "code",
   "execution_count": 11,
   "metadata": {},
   "outputs": [
    {
     "data": {
      "text/plain": [
       "<langgraph.graph.graph.Graph at 0x2bb79faf020>"
      ]
     },
     "execution_count": 11,
     "metadata": {},
     "output_type": "execute_result"
    }
   ],
   "source": [
    "workflow1.add_node(\"function2\",function2)"
   ]
  },
  {
   "cell_type": "code",
   "execution_count": 12,
   "metadata": {},
   "outputs": [
    {
     "data": {
      "text/plain": [
       "<langgraph.graph.graph.Graph at 0x2bb79faf020>"
      ]
     },
     "execution_count": 12,
     "metadata": {},
     "output_type": "execute_result"
    }
   ],
   "source": [
    "workflow1.add_edge(\"function1\",\"function2\")"
   ]
  },
  {
   "cell_type": "code",
   "execution_count": 13,
   "metadata": {},
   "outputs": [
    {
     "data": {
      "text/plain": [
       "<langgraph.graph.graph.Graph at 0x2bb79faf020>"
      ]
     },
     "execution_count": 13,
     "metadata": {},
     "output_type": "execute_result"
    }
   ],
   "source": [
    "\n",
    "workflow1.set_entry_point(\"function1\")"
   ]
  },
  {
   "cell_type": "code",
   "execution_count": 14,
   "metadata": {},
   "outputs": [
    {
     "data": {
      "text/plain": [
       "<langgraph.graph.graph.Graph at 0x2bb79faf020>"
      ]
     },
     "execution_count": 14,
     "metadata": {},
     "output_type": "execute_result"
    }
   ],
   "source": [
    "\n",
    "workflow1.set_finish_point(\"function2\")"
   ]
  },
  {
   "cell_type": "code",
   "execution_count": 15,
   "metadata": {},
   "outputs": [],
   "source": [
    "app1=workflow1.compile()"
   ]
  },
  {
   "cell_type": "code",
   "execution_count": 16,
   "metadata": {},
   "outputs": [
    {
     "data": {
      "image/png": "[encoded data removed]",
      "text/plain": [
       "<IPython.core.display.Image object>"
      ]
     },
     "metadata": {},
     "output_type": "display_data"
    }
   ],
   "source": [
    "\n",
    "from IPython.display import Image, display\n",
    "\n",
    "try:\n",
    "    display(Image(app1.get_graph().draw_mermaid_png()))\n",
    "except Exception as e:\n",
    "    # This requires some extra dependencies and is optional\n",
    "    print(e)"
   ]
  },
  {
   "cell_type": "code",
   "execution_count": 17,
   "metadata": {},
   "outputs": [
    {
     "data": {
      "text/plain": [
       "'hi this is sunny from first function this is function 2 in between and savita from second function'"
      ]
     },
     "execution_count": 17,
     "metadata": {},
     "output_type": "execute_result"
    }
   ],
   "source": [
    "app1.invoke(\"hi this is sunny \")"
   ]
  },
  {
   "cell_type": "code",
   "execution_count": 18,
   "metadata": {},
   "outputs": [],
   "source": [
    "\n",
    "input = \"hi this is sunny \""
   ]
  },
  {
   "cell_type": "code",
   "execution_count": 19,
   "metadata": {},
   "outputs": [
    {
     "name": "stdout",
     "output_type": "stream",
     "text": [
      "here is output from function1\n",
      "_______\n",
      "hi this is sunny from first function\n",
      "\n",
      "\n",
      "here is output from function2\n",
      "_______\n",
      "hi this is sunny from first function this is function 2 in between and savita from second function\n",
      "\n",
      "\n"
     ]
    }
   ],
   "source": [
    "\n",
    "for output in app1.stream(input):\n",
    "    for key,value in output.items():\n",
    "        print(f\"here is output from {key}\")\n",
    "        print(\"_______\")\n",
    "        print(value)\n",
    "        print(\"\\n\")"
   ]
  },
  {
   "cell_type": "markdown",
   "metadata": {},
   "source": [
    "###now explain the intermediate function\n",
    "####then come to the next workflow\n",
    "#from here phase-2\n",
    "###Now let's create a workflow with LLM"
   ]
  },
  {
   "cell_type": "code",
   "execution_count": 20,
   "metadata": {},
   "outputs": [
    {
     "data": {
      "text/plain": [
       "'Hi! How can I assist you today?'"
      ]
     },
     "execution_count": 20,
     "metadata": {},
     "output_type": "execute_result"
    }
   ],
   "source": [
    "from langchain_groq import ChatGroq\n",
    "llm=ChatGroq(model_name=\"llama3-groq-70b-8192-tool-use-preview\")\n",
    "llm.invoke(\"hi\").content"
   ]
  },
  {
   "cell_type": "code",
   "execution_count": 21,
   "metadata": {},
   "outputs": [
    {
     "name": "stderr",
     "output_type": "stream",
     "text": [
      "c:\\Users\\91639\\Desktop\\langgraph_end_to_end\\myenv\\Lib\\site-packages\\tqdm\\auto.py:21: TqdmWarning: IProgress not found. Please update jupyter and ipywidgets. See https://ipywidgets.readthedocs.io/en/stable/user_install.html\n",
      "  from .autonotebook import tqdm as notebook_tqdm\n"
     ]
    }
   ],
   "source": [
    "from langchain.embeddings import HuggingFaceBgeEmbeddings\n",
    "\n",
    "model_name = \"BAAI/bge-base-en-v1.5\"\n",
    "model_kwargs = {'device': 'cpu'}\n",
    "encode_kwargs = {'normalize_embeddings': True} # set True to compute cosine similarity\n",
    "embeddings = HuggingFaceBgeEmbeddings(\n",
    "    model_name=model_name,\n",
    "    model_kwargs=model_kwargs,\n",
    "    encode_kwargs=encode_kwargs,\n",
    ")"
   ]
  },
  {
   "cell_type": "code",
   "execution_count": 22,
   "metadata": {},
   "outputs": [],
   "source": [
    "def function1(input):\n",
    "    llm=ChatGroq(model_name=\"llama3-groq-70b-8192-tool-use-preview\")\n",
    "    response=llm.invoke(input).content\n",
    "    return response"
   ]
  },
  {
   "cell_type": "code",
   "execution_count": 23,
   "metadata": {},
   "outputs": [],
   "source": [
    "\n",
    "def function2(input):\n",
    "    upper_case=input.upper()\n",
    "    return upper_case"
   ]
  },
  {
   "cell_type": "code",
   "execution_count": 24,
   "metadata": {},
   "outputs": [],
   "source": [
    "from langgraph.graph import Graph\n",
    "workflow2=Graph()"
   ]
  },
  {
   "cell_type": "code",
   "execution_count": 25,
   "metadata": {},
   "outputs": [
    {
     "data": {
      "text/plain": [
       "<langgraph.graph.graph.Graph at 0x2bb7aee1d60>"
      ]
     },
     "execution_count": 25,
     "metadata": {},
     "output_type": "execute_result"
    }
   ],
   "source": [
    "workflow2.add_node(\"llm\",function1)"
   ]
  },
  {
   "cell_type": "code",
   "execution_count": 26,
   "metadata": {},
   "outputs": [
    {
     "data": {
      "text/plain": [
       "<langgraph.graph.graph.Graph at 0x2bb7aee1d60>"
      ]
     },
     "execution_count": 26,
     "metadata": {},
     "output_type": "execute_result"
    }
   ],
   "source": [
    "workflow2.add_node(\"upper_string\",function2)"
   ]
  },
  {
   "cell_type": "code",
   "execution_count": 27,
   "metadata": {},
   "outputs": [
    {
     "data": {
      "text/plain": [
       "<langgraph.graph.graph.Graph at 0x2bb7aee1d60>"
      ]
     },
     "execution_count": 27,
     "metadata": {},
     "output_type": "execute_result"
    }
   ],
   "source": [
    "workflow2.add_edge(\"llm\",\"upper_string\")"
   ]
  },
  {
   "cell_type": "code",
   "execution_count": 28,
   "metadata": {},
   "outputs": [
    {
     "data": {
      "text/plain": [
       "<langgraph.graph.graph.Graph at 0x2bb7aee1d60>"
      ]
     },
     "execution_count": 28,
     "metadata": {},
     "output_type": "execute_result"
    }
   ],
   "source": [
    "workflow2.set_entry_point(\"llm\")\n",
    "workflow2.set_finish_point(\"upper_string\")"
   ]
  },
  {
   "cell_type": "code",
   "execution_count": 29,
   "metadata": {},
   "outputs": [],
   "source": [
    "app2=workflow2.compile()"
   ]
  },
  {
   "cell_type": "code",
   "execution_count": 30,
   "metadata": {},
   "outputs": [
    {
     "data": {
      "image/png": "[encoded data removed]",
      "text/plain": [
       "<IPython.core.display.Image object>"
      ]
     },
     "metadata": {},
     "output_type": "display_data"
    }
   ],
   "source": [
    "\n",
    "from IPython.display import Image, display\n",
    "\n",
    "try:\n",
    "    display(Image(app2.get_graph().draw_mermaid_png()))\n",
    "except Exception as e:\n",
    "    # This requires some extra dependencies and is optional\n",
    "    print(e)"
   ]
  },
  {
   "cell_type": "code",
   "execution_count": 31,
   "metadata": {},
   "outputs": [
    {
     "data": {
      "text/plain": [
       "'THE FIRST PRIME MINISTER OF INDIA WAS JAWAHARLAL NEHRU.'"
      ]
     },
     "execution_count": 31,
     "metadata": {},
     "output_type": "execute_result"
    }
   ],
   "source": [
    "app2.invoke(\"what is a name of first indian prime minister?\")"
   ]
  },
  {
   "cell_type": "code",
   "execution_count": 32,
   "metadata": {},
   "outputs": [
    {
     "name": "stdout",
     "output_type": "stream",
     "text": [
      "here is output from llm\n",
      "_______\n",
      "Hi Sunny! How can I assist you today?\n",
      "\n",
      "\n",
      "here is output from upper_string\n",
      "_______\n",
      "HI SUNNY! HOW CAN I ASSIST YOU TODAY?\n",
      "\n",
      "\n"
     ]
    }
   ],
   "source": [
    "\n",
    "for output in app2.stream(input):\n",
    "    for key,value in output.items():\n",
    "        print(f\"here is output from {key}\")\n",
    "        print(\"_______\")\n",
    "        print(value)\n",
    "        print(\"\\n\")"
   ]
  },
  {
   "cell_type": "markdown",
   "metadata": {},
   "source": [
    "###this is a second tool which you will create in the end of this phase\n",
    "###Now lets create our output token counter"
   ]
  },
  {
   "cell_type": "code",
   "execution_count": 33,
   "metadata": {},
   "outputs": [],
   "source": [
    "\n",
    "def function3(input):\n",
    "    token=input.split()\n",
    "    token_number=len(token)\n",
    "    token_number=f\"total token number is {token_number}\"\n",
    "    return token_number"
   ]
  },
  {
   "cell_type": "code",
   "execution_count": 34,
   "metadata": {},
   "outputs": [],
   "source": [
    "workflow3=Graph()\n",
    "workflow3.add_node(\"llm\",function1)\n",
    "workflow3.add_node(\"token_counter\",function3)\n",
    "workflow3.add_edge(\"llm\",\"token_counter\")\n",
    "workflow3.set_entry_point(\"llm\")\n",
    "workflow3.set_finish_point(\"token_counter\")\n",
    "app3=workflow3.compile()"
   ]
  },
  {
   "cell_type": "code",
   "execution_count": 35,
   "metadata": {},
   "outputs": [
    {
     "data": {
      "image/png": "[encoded data removed]",
      "text/plain": [
       "<IPython.core.display.Image object>"
      ]
     },
     "metadata": {},
     "output_type": "display_data"
    }
   ],
   "source": [
    "\n",
    "from IPython.display import Image, display\n",
    "\n",
    "try:\n",
    "    display(Image(app3.get_graph().draw_mermaid_png()))\n",
    "except Exception as e:\n",
    "    # This requires some extra dependencies and is optional\n",
    "    print(e)"
   ]
  },
  {
   "cell_type": "code",
   "execution_count": 36,
   "metadata": {},
   "outputs": [
    {
     "data": {
      "text/plain": [
       "'total token number is 9'"
      ]
     },
     "execution_count": 36,
     "metadata": {},
     "output_type": "execute_result"
    }
   ],
   "source": [
    "app3.invoke(\"what is a name of first indian prime minister?\")"
   ]
  },
  {
   "cell_type": "code",
   "execution_count": 38,
   "metadata": {},
   "outputs": [],
   "source": [
    "input=\"what is AI in detailed?\""
   ]
  },
  {
   "cell_type": "code",
   "execution_count": 41,
   "metadata": {},
   "outputs": [
    {
     "name": "stdout",
     "output_type": "stream",
     "text": [
      "here is output from llm\n",
      "_______\n",
      "Artificial Intelligence (AI) refers to the development of computer systems that can perform tasks that typically require human intelligence. These tasks include learning, problem-solving, decision-making, perception, and understanding language. AI systems are designed to analyze data, learn from it, and make predictions or decisions based on that analysis.\n",
      "\n",
      "There are several key concepts and techniques used in AI research:\n",
      "\n",
      "1. Machine Learning: This is a type of AI that allows systems to learn from data without being explicitly programmed. Machine learning algorithms can be used for tasks such as image recognition, natural language processing, and predictive analytics.\n",
      "\n",
      "2. Deep Learning: This is a subset of machine learning that uses neural networks, which are inspired by the structure and function of the human brain. Deep learning algorithms have been successful in tasks such as speech recognition, image recognition, and natural language processing.\n",
      "\n",
      "3. Neural Networks: These are computational models inspired by the structure and function of the human brain. Neural networks consist of interconnected nodes (neurons) that process and transmit information.\n",
      "\n",
      "4. Natural Language Processing (NLP): This is the study of how computers can understand, interpret, and generate human language. NLP is used in applications such as speech recognition, text analysis, and language translation.\n",
      "\n",
      "5. Robotics: This is the study of how to design and build robots that can perform tasks that typically require human intelligence. Robotics involves the integration of AI algorithms with physical devices such as sensors, actuators, and manipulators.\n",
      "\n",
      "6. Expert Systems: These are AI systems that mimic the decision-making abilities of a human expert in a particular domain. Expert systems use knowledge representation and reasoning techniques to make decisions.\n",
      "\n",
      "7. Rule-Based Systems: These are AI systems that use sets of rules to reason and make decisions. Rule-based systems are often used in applications such as expert systems and decision support systems.\n",
      "\n",
      "8. Evolutionary Computation: This is a type of AI that uses principles of natural selection and genetics to search for optimal solutions to complex problems. Evolutionary computation is often used in optimization and machine learning applications.\n",
      "\n",
      "9. Swarm Intelligence: This is a type of AI that is inspired by the collective behavior of decentralized, self-organized systems. Swarm intelligence is often used in applications such as optimization and robotics.\n",
      "\n",
      "10. Hybrid Intelligence: This is a type of AI that combines different AI techniques to create more powerful and flexible systems. Hybrid intelligence is often used in applications such as decision support systems and expert systems.\n",
      "\n",
      "AI has many applications in various fields, including:\n",
      "\n",
      "1. Healthcare: AI is used in medical imaging, drug discovery, and patient diagnosis.\n",
      "2. Finance: AI is used in fraud detection, algorithmic trading, and risk management.\n",
      "3. Transportation: AI is used in autonomous vehicles, traffic management, and route optimization.\n",
      "4. Education: AI is used in adaptive learning systems, intelligent tutoring systems, and educational games.\n",
      "5. Customer Service: AI is used in chatbots, virtual assistants, and customer relationship management systems.\n",
      "\n",
      "However, AI also raises several ethical and societal concerns, such as:\n",
      "\n",
      "1. Job Displacement: The automation of jobs could lead to unemployment and social unrest.\n",
      "2. Privacy: The collection and use of personal data by AI systems raises concerns about privacy and data protection.\n",
      "3. Bias: AI systems can perpetuate existing biases and inequalities if they are not designed carefully.\n",
      "4. Safety: The development of autonomous weapons and other AI systems that can cause harm to humans is a concern.\n",
      "5. Transparency: The lack of transparency in AI decision-making processes can make it difficult to understand and trust AI systems.\n",
      "\n",
      "\n",
      "here is output from token_counter\n",
      "_______\n",
      "total token number is 585\n",
      "\n",
      "\n"
     ]
    }
   ],
   "source": [
    "\n",
    "for output in app3.stream(input):\n",
    "    for key,value in output.items():\n",
    "        print(f\"here is output from {key}\")\n",
    "        print(\"_______\")\n",
    "        print(value)\n",
    "        print(\"\\n\")"
   ]
  },
  {
   "cell_type": "code",
   "execution_count": null,
   "metadata": {},
   "outputs": [],
   "source": []
  }
 ],
 "metadata": {
  "kernelspec": {
   "display_name": "myenv",
   "language": "python",
   "name": "python3"
  },
  "language_info": {
   "codemirror_mode": {
    "name": "ipython",
    "version": 3
   },
   "file_extension": ".py",
   "mimetype": "text/x-python",
   "name": "python",
   "nbconvert_exporter": "python",
   "pygments_lexer": "ipython3",
   "version": "3.10.0"
  }
 },
 "nbformat": 4,
 "nbformat_minor": 2
}
