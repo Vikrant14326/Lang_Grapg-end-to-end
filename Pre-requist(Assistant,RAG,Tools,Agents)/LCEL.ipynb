{
 "cells": [
  {
   "cell_type": "code",
   "execution_count": null,
   "metadata": {
    "vscode": {
     "languageId": "plaintext"
    }
   },
   "outputs": [],
   "source": [
    "from google.colab import userdata\n",
    "GROQ_API_KEY=userdata.get('GROQ_API_KEY')\n",
    "import os\n",
    "os.environ[\"GROQ_API_KEY\"]=GROQ_API_KEY"
   ]
  }
 ],
 "metadata": {
  "language_info": {
   "name": "python"
  }
 },
 "nbformat": 4,
 "nbformat_minor": 2
}
